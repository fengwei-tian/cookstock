{
 "cells": [
  {
   "cell_type": "code",
   "execution_count": null,
   "metadata": {},
   "outputs": [],
   "source": [
    "###all simple calculation for rule one"
   ]
  },
  {
   "cell_type": "code",
   "execution_count": 1,
   "metadata": {},
   "outputs": [],
   "source": [
    "def ROIC(nopat, equity, debt):\n",
    "    return (nopat)/(equity+debt)    "
   ]
  },
  {
   "cell_type": "code",
   "execution_count": 2,
   "metadata": {},
   "outputs": [
    {
     "name": "stdout",
     "output_type": "stream",
     "text": [
      "0.2686514886164623\n"
     ]
    }
   ],
   "source": [
    "test = ROIC(7670000,28050000,500000)\n",
    "print(test)"
   ]
  },
  {
   "cell_type": "code",
   "execution_count": 3,
   "metadata": {},
   "outputs": [],
   "source": [
    "def EPS(cEPS, iEPS, years):\n",
    "    return (cEPS / iEPS)**(1/years)-1\n",
    "    "
   ]
  },
  {
   "cell_type": "code",
   "execution_count": 4,
   "metadata": {},
   "outputs": [
    {
     "name": "stdout",
     "output_type": "stream",
     "text": [
      "0.10408951367381225\n"
     ]
    }
   ],
   "source": [
    "print(EPS(2,1,7))"
   ]
  },
  {
   "cell_type": "code",
   "execution_count": 5,
   "metadata": {},
   "outputs": [],
   "source": [
    "#(7/years for double /10)*100%\n",
    "def GROWTHRATE(cur,init, years):\n",
    "    return (cur/init)**(1/years)-1"
   ]
  },
  {
   "cell_type": "code",
   "execution_count": 6,
   "metadata": {},
   "outputs": [
    {
     "name": "stdout",
     "output_type": "stream",
     "text": [
      "0.7782794100389228\n"
     ]
    }
   ],
   "source": [
    "print(GROWTHRATE(10,1,4))"
   ]
  },
  {
   "cell_type": "code",
   "execution_count": 7,
   "metadata": {},
   "outputs": [],
   "source": [
    "def MARCAP(shareprice, shares):\n",
    "    return shareprice * shares"
   ]
  },
  {
   "cell_type": "code",
   "execution_count": 17,
   "metadata": {},
   "outputs": [],
   "source": [
    "def STOCKPRICE(cEPS, growth, years, rRate, PE, safty):\n",
    "    fEPS = cEPS*(1+growth)**years\n",
    "    fPrice = fEPS*PE;\n",
    "    stickerPrice = fPrice/(1+rRate)**years\n",
    "    return stickerPrice, stickerPrice*safty"
   ]
  },
  {
   "cell_type": "code",
   "execution_count": 18,
   "metadata": {},
   "outputs": [
    {
     "name": "stdout",
     "output_type": "stream",
     "text": [
      "(506.73292543841455, 253.36646271920728)\n"
     ]
    }
   ],
   "source": [
    "print(STOCKPRICE(1,0.54,8,0.15,49,0.5))"
   ]
  },
  {
   "cell_type": "code",
   "execution_count": 19,
   "metadata": {},
   "outputs": [],
   "source": [
    "def PAYBACKTIME(price, cEPS, growth):\n",
    "    tmp = 0\n",
    "    i = 0\n",
    "    while(growth>0):\n",
    "        i+=1\n",
    "        tmp = tmp + cEPS*(1+growth)**i\n",
    "        if (tmp>price):\n",
    "            break\n",
    "    return i"
   ]
  },
  {
   "cell_type": "code",
   "execution_count": 24,
   "metadata": {},
   "outputs": [
    {
     "name": "stdout",
     "output_type": "stream",
     "text": [
      "8\n"
     ]
    }
   ],
   "source": [
    "print(PAYBACKTIME(65,1,0.54))"
   ]
  },
  {
   "cell_type": "code",
   "execution_count": 39,
   "metadata": {},
   "outputs": [],
   "source": [
    "##\n",
    "def ROE(netIncome, equity):\n",
    "    return netIncome/equity"
   ]
  },
  {
   "cell_type": "code",
   "execution_count": 40,
   "metadata": {},
   "outputs": [],
   "source": [
    "##years to pay off the debt\n",
    "def DEBTtoEARNING(netIncome,debt):\n",
    "    return debt/netIncome"
   ]
  },
  {
   "cell_type": "code",
   "execution_count": 12,
   "metadata": {},
   "outputs": [],
   "source": [
    "from __future__ import print_function\n",
    "import sys\n",
    "import time\n"
   ]
  },
  {
   "cell_type": "code",
   "execution_count": 1,
   "metadata": {},
   "outputs": [],
   "source": [
    "from yahoofinancials import YahooFinancials"
   ]
  },
  {
   "cell_type": "code",
   "execution_count": null,
   "metadata": {},
   "outputs": [],
   "source": []
  },
  {
   "cell_type": "code",
   "execution_count": 64,
   "metadata": {},
   "outputs": [],
   "source": [
    "ticker = 'MGLN'\n",
    "yahoo_financials = YahooFinancials(ticker)"
   ]
  },
  {
   "cell_type": "code",
   "execution_count": 46,
   "metadata": {},
   "outputs": [
    {
     "data": {
      "text/plain": [
       "374.18542"
      ]
     },
     "execution_count": 46,
     "metadata": {},
     "output_type": "execute_result"
    }
   ],
   "source": [
    "yahoo_financials.get_200day_moving_avg()"
   ]
  },
  {
   "cell_type": "code",
   "execution_count": 50,
   "metadata": {},
   "outputs": [
    {
     "name": "stdout",
     "output_type": "stream",
     "text": [
      "124142002.42424242\n"
     ]
    }
   ],
   "source": [
    "print(yahoo_financials.get_num_shares_outstanding(price_type='current'))"
   ]
  },
  {
   "cell_type": "code",
   "execution_count": 51,
   "metadata": {},
   "outputs": [
    {
     "data": {
      "text/plain": [
       "428518000"
      ]
     },
     "execution_count": 51,
     "metadata": {},
     "output_type": "execute_result"
    }
   ],
   "source": [
    "yahoo_financials.get_book_value()"
   ]
  },
  {
   "cell_type": "code",
   "execution_count": 56,
   "metadata": {},
   "outputs": [
    {
     "data": {
      "text/plain": [
       "34.20199951942196"
      ]
     },
     "execution_count": 56,
     "metadata": {},
     "output_type": "execute_result"
    }
   ],
   "source": [
    "yahoo_financials.get_earnings_per_share()"
   ]
  },
  {
   "cell_type": "code",
   "execution_count": 46,
   "metadata": {},
   "outputs": [
    {
     "data": {
      "text/plain": [
       "90.49691838118288"
      ]
     },
     "execution_count": 46,
     "metadata": {},
     "output_type": "execute_result"
    }
   ],
   "source": [
    "45329000000/500889984"
   ]
  },
  {
   "cell_type": "code",
   "execution_count": 22,
   "metadata": {},
   "outputs": [
    {
     "data": {
      "text/plain": [
       "62060000000"
      ]
     },
     "execution_count": 22,
     "metadata": {},
     "output_type": "execute_result"
    }
   ],
   "source": [
    "225248000000-163188000000"
   ]
  },
  {
   "cell_type": "code",
   "execution_count": 53,
   "metadata": {},
   "outputs": [
    {
     "data": {
      "text/plain": [
       "{'balanceSheetHistoryQuarterly': {'DDD': [{'2020-09-30': {'intangibleAssets': 36888000,\n",
       "     'capitalSurplus': 1404265000,\n",
       "     'totalLiab': 278764000,\n",
       "     'totalStockholderEquity': 428518000,\n",
       "     'otherCurrentLiab': 57885000,\n",
       "     'totalAssets': 707282000,\n",
       "     'commonStock': 128000,\n",
       "     'retainedEarnings': -923473000,\n",
       "     'otherLiab': 54011000,\n",
       "     'goodWill': 179536000,\n",
       "     'treasuryStock': -52402000,\n",
       "     'otherAssets': 29487000,\n",
       "     'cash': 75264000,\n",
       "     'totalCurrentLiabilities': 160428000,\n",
       "     'deferredLongTermAssetCharges': 6502000,\n",
       "     'shortLongTermDebt': 1758000,\n",
       "     'otherStockholderEquity': -29812000,\n",
       "     'propertyPlantEquipment': 125799000,\n",
       "     'totalCurrentAssets': 335572000,\n",
       "     'netTangibleAssets': 212094000,\n",
       "     'netReceivables': 98755000,\n",
       "     'longTermDebt': 19804000,\n",
       "     'inventory': 126882000,\n",
       "     'accountsPayable': 41674000}},\n",
       "   {'2020-06-30': {'intangibleAssets': 40269000,\n",
       "     'capitalSurplus': 1377468000,\n",
       "     'totalLiab': 287783000,\n",
       "     'totalStockholderEquity': 463428000,\n",
       "     'otherCurrentLiab': 57823000,\n",
       "     'totalAssets': 751211000,\n",
       "     'commonStock': 124000,\n",
       "     'retainedEarnings': -850584000,\n",
       "     'otherLiab': 50733000,\n",
       "     'goodWill': 221446000,\n",
       "     'treasuryStock': -63580000,\n",
       "     'otherAssets': 30282000,\n",
       "     'cash': 63922000,\n",
       "     'totalCurrentLiabilities': 170648000,\n",
       "     'deferredLongTermAssetCharges': 5327000,\n",
       "     'shortLongTermDebt': 1465000,\n",
       "     'otherStockholderEquity': -40990000,\n",
       "     'propertyPlantEquipment': 133770000,\n",
       "     'totalCurrentAssets': 325444000,\n",
       "     'netTangibleAssets': 201713000,\n",
       "     'netReceivables': 97708000,\n",
       "     'longTermDebt': 20063000,\n",
       "     'inventory': 125077000,\n",
       "     'accountsPayable': 52172000}},\n",
       "   {'2020-03-31': {'intangibleAssets': 43788000,\n",
       "     'capitalSurplus': 1370174000,\n",
       "     'totalLiab': 295043000,\n",
       "     'totalStockholderEquity': 488669000,\n",
       "     'otherCurrentLiab': 61313000,\n",
       "     'totalAssets': 783712000,\n",
       "     'commonStock': 121000,\n",
       "     'retainedEarnings': -812633000,\n",
       "     'otherLiab': 50238000,\n",
       "     'goodWill': 218207000,\n",
       "     'treasuryStock': -68993000,\n",
       "     'otherAssets': 29880000,\n",
       "     'cash': 112776000,\n",
       "     'totalCurrentLiabilities': 166306000,\n",
       "     'deferredLongTermAssetCharges': 5040000,\n",
       "     'shortLongTermDebt': 2506000,\n",
       "     'otherStockholderEquity': -49275000,\n",
       "     'propertyPlantEquipment': 124364000,\n",
       "     'totalCurrentAssets': 367473000,\n",
       "     'netTangibleAssets': 226674000,\n",
       "     'netReceivables': 108769000,\n",
       "     'longTermDebt': 44619000,\n",
       "     'inventory': 113240000,\n",
       "     'accountsPayable': 55862000}},\n",
       "   {'2019-12-31': {'intangibleAssets': 48338000,\n",
       "     'capitalSurplus': 1371564000,\n",
       "     'totalLiab': 293416000,\n",
       "     'totalStockholderEquity': 522159000,\n",
       "     'minorityInterest': -8263000,\n",
       "     'otherCurrentLiab': 62947000,\n",
       "     'totalAssets': 807312000,\n",
       "     'commonStock': 120000,\n",
       "     'retainedEarnings': -793709000,\n",
       "     'otherLiab': 49835000,\n",
       "     'goodWill': 223176000,\n",
       "     'treasuryStock': -55816000,\n",
       "     'otherAssets': 24471000,\n",
       "     'cash': 133665000,\n",
       "     'totalCurrentLiabilities': 162964000,\n",
       "     'deferredLongTermAssetCharges': 5408000,\n",
       "     'shortLongTermDebt': 2506000,\n",
       "     'otherStockholderEquity': -37047000,\n",
       "     'propertyPlantEquipment': 129830000,\n",
       "     'totalCurrentAssets': 373170000,\n",
       "     'longTermInvestments': 8327000,\n",
       "     'netTangibleAssets': 250645000,\n",
       "     'netReceivables': 109408000,\n",
       "     'longTermDebt': 45215000,\n",
       "     'inventory': 111106000,\n",
       "     'accountsPayable': 49851000}}]}}"
      ]
     },
     "execution_count": 53,
     "metadata": {},
     "output_type": "execute_result"
    }
   ],
   "source": [
    "yahoo_financials.get_financial_stmts('quarter', 'balance')"
   ]
  },
  {
   "cell_type": "code",
   "execution_count": 47,
   "metadata": {},
   "outputs": [
    {
     "data": {
      "text/plain": [
       "92.76329"
      ]
     },
     "execution_count": 47,
     "metadata": {},
     "output_type": "execute_result"
    }
   ],
   "source": [
    "yahoo_financials.get_pe_ratio()"
   ]
  },
  {
   "cell_type": "code",
   "execution_count": 4,
   "metadata": {},
   "outputs": [
    {
     "ename": "TypeError",
     "evalue": "_stock_summary_data() missing 1 required positional argument: 'data_field'",
     "output_type": "error",
     "traceback": [
      "\u001b[0;31m---------------------------------------------------------------------------\u001b[0m",
      "\u001b[0;31mTypeError\u001b[0m                                 Traceback (most recent call last)",
      "\u001b[0;32m<ipython-input-4-1736d4ec0522>\u001b[0m in \u001b[0;36m<module>\u001b[0;34m\u001b[0m\n\u001b[0;32m----> 1\u001b[0;31m \u001b[0mprint\u001b[0m\u001b[0;34m(\u001b[0m\u001b[0myahoo_financials\u001b[0m\u001b[0;34m.\u001b[0m\u001b[0m_stock_summary_data\u001b[0m\u001b[0;34m(\u001b[0m\u001b[0;34m)\u001b[0m\u001b[0;34m)\u001b[0m\u001b[0;34m\u001b[0m\u001b[0;34m\u001b[0m\u001b[0m\n\u001b[0m",
      "\u001b[0;31mTypeError\u001b[0m: _stock_summary_data() missing 1 required positional argument: 'data_field'"
     ]
    }
   ],
   "source": [
    "print(yahoo_financials._stock_summary_data())"
   ]
  },
  {
   "cell_type": "code",
   "execution_count": 17,
   "metadata": {},
   "outputs": [
    {
     "data": {
      "text/plain": [
       "280522000000"
      ]
     },
     "execution_count": 17,
     "metadata": {},
     "output_type": "execute_result"
    }
   ],
   "source": [
    "yahoo_financials.get_total_revenue()"
   ]
  },
  {
   "cell_type": "code",
   "execution_count": 67,
   "metadata": {},
   "outputs": [
    {
     "name": "stdout",
     "output_type": "stream",
     "text": [
      "2021-01-05\n",
      "2020-12-21\n"
     ]
    }
   ],
   "source": [
    "import datetime as dt\n",
    "date_from = str(dt.date.today() - dt.timedelta(days=15))\n",
    "date_to = str(dt.date.today())\n",
    "print(date_to)\n",
    "print(date_from)\n"
   ]
  },
  {
   "cell_type": "code",
   "execution_count": 68,
   "metadata": {},
   "outputs": [
    {
     "data": {
      "text/plain": [
       "{'MGLN': {'eventsData': {},\n",
       "  'firstTradeDate': {'formatted_date': '2004-02-25', 'date': 1077719400},\n",
       "  'currency': 'USD',\n",
       "  'instrumentType': 'EQUITY',\n",
       "  'timeZone': {'gmtOffset': -18000},\n",
       "  'prices': [{'date': 1608561000,\n",
       "    'high': 79.54000091552734,\n",
       "    'low': 77.55999755859375,\n",
       "    'open': 78.23999786376953,\n",
       "    'close': 79.45999908447266,\n",
       "    'volume': 170900,\n",
       "    'adjclose': 79.45999908447266,\n",
       "    'formatted_date': '2020-12-21'},\n",
       "   {'date': 1608647400,\n",
       "    'high': 81.5,\n",
       "    'low': 77.55000305175781,\n",
       "    'open': 79.66000366210938,\n",
       "    'close': 79.55999755859375,\n",
       "    'volume': 111600,\n",
       "    'adjclose': 79.55999755859375,\n",
       "    'formatted_date': '2020-12-22'},\n",
       "   {'date': 1608733800,\n",
       "    'high': 82.0,\n",
       "    'low': 80.20999908447266,\n",
       "    'open': 80.20999908447266,\n",
       "    'close': 81.76000213623047,\n",
       "    'volume': 107400,\n",
       "    'adjclose': 81.76000213623047,\n",
       "    'formatted_date': '2020-12-23'},\n",
       "   {'date': 1608820200,\n",
       "    'high': 82.05000305175781,\n",
       "    'low': 81.05999755859375,\n",
       "    'open': 81.73999786376953,\n",
       "    'close': 81.6500015258789,\n",
       "    'volume': 44900,\n",
       "    'adjclose': 81.6500015258789,\n",
       "    'formatted_date': '2020-12-24'},\n",
       "   {'date': 1609165800,\n",
       "    'high': 82.98999786376953,\n",
       "    'low': 81.58999633789062,\n",
       "    'open': 82.19000244140625,\n",
       "    'close': 82.33999633789062,\n",
       "    'volume': 82700,\n",
       "    'adjclose': 82.33999633789062,\n",
       "    'formatted_date': '2020-12-28'},\n",
       "   {'date': 1609252200,\n",
       "    'high': 83.1500015258789,\n",
       "    'low': 81.86000061035156,\n",
       "    'open': 82.47000122070312,\n",
       "    'close': 82.62999725341797,\n",
       "    'volume': 83100,\n",
       "    'adjclose': 82.62999725341797,\n",
       "    'formatted_date': '2020-12-29'},\n",
       "   {'date': 1609338600,\n",
       "    'high': 83.37999725341797,\n",
       "    'low': 82.04000091552734,\n",
       "    'open': 82.72000122070312,\n",
       "    'close': 82.36000061035156,\n",
       "    'volume': 74400,\n",
       "    'adjclose': 82.36000061035156,\n",
       "    'formatted_date': '2020-12-30'},\n",
       "   {'date': 1609425000,\n",
       "    'high': 83.31999969482422,\n",
       "    'low': 80.38999938964844,\n",
       "    'open': 82.33000183105469,\n",
       "    'close': 82.83999633789062,\n",
       "    'volume': 87000,\n",
       "    'adjclose': 82.83999633789062,\n",
       "    'formatted_date': '2020-12-31'},\n",
       "   {'date': 1609770600,\n",
       "    'high': 94.2300033569336,\n",
       "    'low': 92.69999694824219,\n",
       "    'open': 92.76000213623047,\n",
       "    'close': 93.63999938964844,\n",
       "    'volume': 4748400,\n",
       "    'adjclose': 93.63999938964844,\n",
       "    'formatted_date': '2021-01-04'}]}}"
      ]
     },
     "execution_count": 68,
     "metadata": {},
     "output_type": "execute_result"
    }
   ],
   "source": [
    "yahoo_financials.get_historical_price_data(date_from,date_to, 'daily')\n",
    "#print(data)"
   ]
  },
  {
   "cell_type": "markdown",
   "metadata": {},
   "source": [
    "##### "
   ]
  },
  {
   "cell_type": "code",
   "execution_count": 36,
   "metadata": {},
   "outputs": [
    {
     "data": {
      "text/plain": [
       "[{'date': 1609338600,\n",
       "  'high': 3342.10009765625,\n",
       "  'low': 3282.469970703125,\n",
       "  'open': 3341.0,\n",
       "  'close': 3285.85009765625,\n",
       "  'volume': 3209300,\n",
       "  'adjclose': 3285.85009765625,\n",
       "  'formatted_date': '2020-12-30'},\n",
       " {'date': 1609425000,\n",
       "  'high': 3282.919921875,\n",
       "  'low': 3241.199951171875,\n",
       "  'open': 3275.0,\n",
       "  'close': 3256.929931640625,\n",
       "  'volume': 2954100,\n",
       "  'adjclose': 3256.929931640625,\n",
       "  'formatted_date': '2020-12-31'}]"
      ]
     },
     "execution_count": 36,
     "metadata": {},
     "output_type": "execute_result"
    }
   ],
   "source": [
    "(data['AMZN']['prices'])"
   ]
  },
  {
   "cell_type": "code",
   "execution_count": 17,
   "metadata": {},
   "outputs": [
    {
     "name": "stdout",
     "output_type": "stream",
     "text": [
      "{'TSLA': None}\n"
     ]
    }
   ],
   "source": [
    "print(yahoo_financials.get_daily_dividend_data('2020-1-1','2020-1-10'))"
   ]
  },
  {
   "cell_type": "code",
   "execution_count": 33,
   "metadata": {},
   "outputs": [],
   "source": [
    "yahoo_financials.get_earnings_per_share()"
   ]
  },
  {
   "cell_type": "code",
   "execution_count": 34,
   "metadata": {},
   "outputs": [],
   "source": [
    "yahoo_financials.get_pe_ratio()"
   ]
  },
  {
   "cell_type": "code",
   "execution_count": 20,
   "metadata": {},
   "outputs": [
    {
     "data": {
      "text/plain": [
       "{'incomeStatementHistory': {'TSLA': [{'2019-12-31': {'researchDevelopment': 1343000000,\n",
       "     'effectOfAccountingCharges': None,\n",
       "     'incomeBeforeTax': -665000000,\n",
       "     'minorityInterest': 1492000000,\n",
       "     'netIncome': -862000000,\n",
       "     'sellingGeneralAdministrative': 2646000000,\n",
       "     'grossProfit': 4069000000,\n",
       "     'ebit': 80000000,\n",
       "     'operatingIncome': 80000000,\n",
       "     'otherOperatingExpenses': None,\n",
       "     'interestExpense': -725000000,\n",
       "     'extraordinaryItems': None,\n",
       "     'nonRecurring': None,\n",
       "     'otherItems': None,\n",
       "     'incomeTaxExpense': 110000000,\n",
       "     'totalRevenue': 24578000000,\n",
       "     'totalOperatingExpenses': 24498000000,\n",
       "     'costOfRevenue': 20509000000,\n",
       "     'totalOtherIncomeExpenseNet': -745000000,\n",
       "     'discontinuedOperations': None,\n",
       "     'netIncomeFromContinuingOps': -775000000,\n",
       "     'netIncomeApplicableToCommonShares': -862000000}},\n",
       "   {'2018-12-31': {'researchDevelopment': 1460000000,\n",
       "     'effectOfAccountingCharges': None,\n",
       "     'incomeBeforeTax': -1005000000,\n",
       "     'minorityInterest': 1390000000,\n",
       "     'netIncome': -976000000,\n",
       "     'sellingGeneralAdministrative': 2835000000,\n",
       "     'grossProfit': 4042000000,\n",
       "     'ebit': -253000000,\n",
       "     'operatingIncome': -253000000,\n",
       "     'otherOperatingExpenses': None,\n",
       "     'interestExpense': -653000000,\n",
       "     'extraordinaryItems': None,\n",
       "     'nonRecurring': None,\n",
       "     'otherItems': None,\n",
       "     'incomeTaxExpense': 58000000,\n",
       "     'totalRevenue': 21461000000,\n",
       "     'totalOperatingExpenses': 21714000000,\n",
       "     'costOfRevenue': 17419000000,\n",
       "     'totalOtherIncomeExpenseNet': -752000000,\n",
       "     'discontinuedOperations': None,\n",
       "     'netIncomeFromContinuingOps': -1063000000,\n",
       "     'netIncomeApplicableToCommonShares': -976000000}},\n",
       "   {'2017-12-31': {'researchDevelopment': 1378000000,\n",
       "     'effectOfAccountingCharges': None,\n",
       "     'incomeBeforeTax': -2209000000,\n",
       "     'minorityInterest': 1395080000,\n",
       "     'netIncome': -1962000000,\n",
       "     'sellingGeneralAdministrative': 2477000000,\n",
       "     'grossProfit': 2223000000,\n",
       "     'ebit': -1632000000,\n",
       "     'operatingIncome': -1632000000,\n",
       "     'otherOperatingExpenses': None,\n",
       "     'interestExpense': -477000000,\n",
       "     'extraordinaryItems': None,\n",
       "     'nonRecurring': None,\n",
       "     'otherItems': None,\n",
       "     'incomeTaxExpense': 32000000,\n",
       "     'totalRevenue': 11759000000,\n",
       "     'totalOperatingExpenses': 13391000000,\n",
       "     'costOfRevenue': 9536000000,\n",
       "     'totalOtherIncomeExpenseNet': -577000000,\n",
       "     'discontinuedOperations': None,\n",
       "     'netIncomeFromContinuingOps': -2241000000,\n",
       "     'netIncomeApplicableToCommonShares': -1962000000}},\n",
       "   {'2016-12-31': {'researchDevelopment': 834408000,\n",
       "     'effectOfAccountingCharges': None,\n",
       "     'incomeBeforeTax': -746348000,\n",
       "     'minorityInterest': 1152214000,\n",
       "     'netIncome': -674914000,\n",
       "     'sellingGeneralAdministrative': 1410489000,\n",
       "     'grossProfit': 1599257000,\n",
       "     'ebit': -645640000,\n",
       "     'operatingIncome': -645640000,\n",
       "     'otherOperatingExpenses': None,\n",
       "     'interestExpense': -191815000,\n",
       "     'extraordinaryItems': None,\n",
       "     'nonRecurring': None,\n",
       "     'otherItems': None,\n",
       "     'incomeTaxExpense': 26698000,\n",
       "     'totalRevenue': 7000132000,\n",
       "     'totalOperatingExpenses': 7645772000,\n",
       "     'costOfRevenue': 5400875000,\n",
       "     'totalOtherIncomeExpenseNet': -100708000,\n",
       "     'discontinuedOperations': None,\n",
       "     'netIncomeFromContinuingOps': -773046000,\n",
       "     'netIncomeApplicableToCommonShares': -674914000}}]}}"
      ]
     },
     "execution_count": 20,
     "metadata": {},
     "output_type": "execute_result"
    }
   ],
   "source": [
    "yahoo_financials.get_financial_stmts('annual', 'income')"
   ]
  },
  {
   "cell_type": "code",
   "execution_count": 40,
   "metadata": {},
   "outputs": [
    {
     "data": {
      "text/plain": [
       "{'balanceSheetHistoryQuarterly': {'AMZN': [{'2020-09-30': {'capitalSurplus': 40307000000,\n",
       "     'totalLiab': 199404000000,\n",
       "     'totalStockholderEquity': 82775000000,\n",
       "     'otherCurrentLiab': 9251000000,\n",
       "     'totalAssets': 282179000000,\n",
       "     'commonStock': 5000000,\n",
       "     'otherCurrentAssets': 239000000,\n",
       "     'retainedEarnings': 45329000000,\n",
       "     'otherLiab': 15974000000,\n",
       "     'goodWill': 14960000000,\n",
       "     'treasuryStock': -2866000000,\n",
       "     'otherAssets': 16150000000,\n",
       "     'cash': 29930000000,\n",
       "     'totalCurrentLiabilities': 101912000000,\n",
       "     'shortLongTermDebt': 155000000,\n",
       "     'otherStockholderEquity': -1029000000,\n",
       "     'propertyPlantEquipment': 134100000000,\n",
       "     'totalCurrentAssets': 112969000000,\n",
       "     'longTermInvestments': 4000000000,\n",
       "     'netTangibleAssets': 67815000000,\n",
       "     'shortTermInvestments': 38472000000,\n",
       "     'netReceivables': 20593000000,\n",
       "     'longTermDebt': 32929000000,\n",
       "     'inventory': 23735000000,\n",
       "     'accountsPayable': 58334000000}},\n",
       "   {'2020-06-30': {'capitalSurplus': 38017000000,\n",
       "     'totalLiab': 184586000000,\n",
       "     'totalStockholderEquity': 73728000000,\n",
       "     'otherCurrentLiab': 8997000000,\n",
       "     'totalAssets': 258314000000,\n",
       "     'commonStock': 5000000,\n",
       "     'otherCurrentAssets': 354000000,\n",
       "     'retainedEarnings': 38998000000,\n",
       "     'otherLiab': 14764000000,\n",
       "     'goodWill': 14751000000,\n",
       "     'treasuryStock': -3292000000,\n",
       "     'otherAssets': 15101000000,\n",
       "     'cash': 37466000000,\n",
       "     'totalCurrentLiabilities': 93896000000,\n",
       "     'shortLongTermDebt': 1154000000,\n",
       "     'otherStockholderEquity': -1455000000,\n",
       "     'propertyPlantEquipment': 115054000000,\n",
       "     'totalCurrentAssets': 110908000000,\n",
       "     'longTermInvestments': 2500000000,\n",
       "     'netTangibleAssets': 58977000000,\n",
       "     'shortTermInvestments': 33925000000,\n",
       "     'netReceivables': 19564000000,\n",
       "     'longTermDebt': 33128000000,\n",
       "     'inventory': 19599000000,\n",
       "     'accountsPayable': 51036000000}},\n",
       "   {'2020-03-31': {'capitalSurplus': 35412000000,\n",
       "     'totalLiab': 155966000000,\n",
       "     'totalStockholderEquity': 65272000000,\n",
       "     'otherCurrentLiab': 8864000000,\n",
       "     'totalAssets': 221238000000,\n",
       "     'commonStock': 5000000,\n",
       "     'otherCurrentAssets': 282000000,\n",
       "     'retainedEarnings': 33755000000,\n",
       "     'otherLiab': 12518000000,\n",
       "     'goodWill': 14739000000,\n",
       "     'treasuryStock': -3900000000,\n",
       "     'otherAssets': 16456000000,\n",
       "     'cash': 27201000000,\n",
       "     'totalCurrentLiabilities': 79711000000,\n",
       "     'shortLongTermDebt': 1311000000,\n",
       "     'otherStockholderEquity': -2063000000,\n",
       "     'propertyPlantEquipment': 104058000000,\n",
       "     'totalCurrentAssets': 85985000000,\n",
       "     'longTermInvestments': 2028000000,\n",
       "     'netTangibleAssets': 50533000000,\n",
       "     'shortTermInvestments': 22091000000,\n",
       "     'netReceivables': 17836000000,\n",
       "     'longTermDebt': 23437000000,\n",
       "     'inventory': 18857000000,\n",
       "     'accountsPayable': 40056000000}},\n",
       "   {'2019-12-31': {'intangibleAssets': 4049000000,\n",
       "     'capitalSurplus': 33658000000,\n",
       "     'totalLiab': 163188000000,\n",
       "     'totalStockholderEquity': 62060000000,\n",
       "     'otherCurrentLiab': 12202000000,\n",
       "     'totalAssets': 225248000000,\n",
       "     'commonStock': 5000000,\n",
       "     'otherCurrentAssets': 276000000,\n",
       "     'retainedEarnings': 31220000000,\n",
       "     'otherLiab': 12171000000,\n",
       "     'goodWill': 14754000000,\n",
       "     'treasuryStock': -2823000000,\n",
       "     'otherAssets': 10096000000,\n",
       "     'cash': 36092000000,\n",
       "     'totalCurrentLiabilities': 87812000000,\n",
       "     'shortLongTermDebt': 1307000000,\n",
       "     'otherStockholderEquity': -986000000,\n",
       "     'propertyPlantEquipment': 97846000000,\n",
       "     'totalCurrentAssets': 96334000000,\n",
       "     'longTermInvestments': 2169000000,\n",
       "     'netTangibleAssets': 43257000000,\n",
       "     'shortTermInvestments': 18929000000,\n",
       "     'netReceivables': 20540000000,\n",
       "     'longTermDebt': 23414000000,\n",
       "     'inventory': 20497000000,\n",
       "     'accountsPayable': 47183000000}}]}}"
      ]
     },
     "execution_count": 40,
     "metadata": {},
     "output_type": "execute_result"
    }
   ],
   "source": [
    "yahoo_financials.get_financial_stmts('quarter','balance')"
   ]
  },
  {
   "cell_type": "code",
   "execution_count": 21,
   "metadata": {},
   "outputs": [
    {
     "data": {
      "text/plain": [
       "{'cashflowStatementHistory': {'AMZN': [{'2019-12-31': {'investments': -9131000000,\n",
       "     'changeToLiabilities': 9904000000,\n",
       "     'totalCashflowsFromInvestingActivities': -24281000000,\n",
       "     'netBorrowings': -10066000000,\n",
       "     'totalCashFromFinancingActivities': -10066000000,\n",
       "     'changeToOperatingActivities': -1383000000,\n",
       "     'netIncome': 11588000000,\n",
       "     'changeInCash': 4237000000,\n",
       "     'effectOfExchangeRate': 70000000,\n",
       "     'totalCashFromOperatingActivities': 38514000000,\n",
       "     'depreciation': 21789000000,\n",
       "     'changeToInventory': -3278000000,\n",
       "     'changeToAccountReceivables': -7681000000,\n",
       "     'changeToNetincome': 7575000000,\n",
       "     'capitalExpenditures': -16861000000}},\n",
       "   {'2018-12-31': {'investments': 1140000000,\n",
       "     'changeToLiabilities': 4414000000,\n",
       "     'totalCashflowsFromInvestingActivities': -12369000000,\n",
       "     'netBorrowings': -7686000000,\n",
       "     'totalCashFromFinancingActivities': -7686000000,\n",
       "     'changeToOperatingActivities': 472000000,\n",
       "     'netIncome': 10073000000,\n",
       "     'changeInCash': 10317000000,\n",
       "     'effectOfExchangeRate': -351000000,\n",
       "     'totalCashFromOperatingActivities': 30723000000,\n",
       "     'depreciation': 15341000000,\n",
       "     'otherCashflowsFromInvestingActivities': 2104000000,\n",
       "     'changeToInventory': -1314000000,\n",
       "     'changeToAccountReceivables': -4615000000,\n",
       "     'changeToNetincome': 6352000000,\n",
       "     'capitalExpenditures': -13427000000}},\n",
       "   {'2017-12-31': {'investments': -3054000000,\n",
       "     'changeToLiabilities': 7838000000,\n",
       "     'totalCashflowsFromInvestingActivities': -27084000000,\n",
       "     'netBorrowings': 9928000000,\n",
       "     'totalCashFromFinancingActivities': 9928000000,\n",
       "     'changeToOperatingActivities': 283000000,\n",
       "     'netIncome': 3033000000,\n",
       "     'changeInCash': 1922000000,\n",
       "     'effectOfExchangeRate': 713000000,\n",
       "     'totalCashFromOperatingActivities': 18365000000,\n",
       "     'depreciation': 11478000000,\n",
       "     'otherCashflowsFromInvestingActivities': 1897000000,\n",
       "     'changeToInventory': -3583000000,\n",
       "     'changeToAccountReceivables': -4780000000,\n",
       "     'changeToNetincome': 4096000000,\n",
       "     'capitalExpenditures': -11955000000}},\n",
       "   {'2016-12-31': {'investments': -2663000000,\n",
       "     'changeToLiabilities': 6985000000,\n",
       "     'totalCashflowsFromInvestingActivities': -9516000000,\n",
       "     'netBorrowings': -3716000000,\n",
       "     'totalCashFromFinancingActivities': -3716000000,\n",
       "     'changeToOperatingActivities': 1724000000,\n",
       "     'netIncome': 2371000000,\n",
       "     'changeInCash': 3759000000,\n",
       "     'effectOfExchangeRate': -212000000,\n",
       "     'totalCashFromOperatingActivities': 17203000000,\n",
       "     'depreciation': 8116000000,\n",
       "     'otherCashflowsFromInvestingActivities': 1067000000,\n",
       "     'changeToInventory': -1426000000,\n",
       "     'changeToAccountReceivables': -3436000000,\n",
       "     'changeToNetincome': 2869000000,\n",
       "     'capitalExpenditures': -7804000000}}]}}"
      ]
     },
     "execution_count": 21,
     "metadata": {},
     "output_type": "execute_result"
    }
   ],
   "source": [
    "yahoo_financials.get_financial_stmts('annual','cash')"
   ]
  },
  {
   "cell_type": "code",
   "execution_count": 34,
   "metadata": {},
   "outputs": [
    {
     "ename": "IndexError",
     "evalue": "list index out of range",
     "output_type": "error",
     "traceback": [
      "\u001b[0;31m---------------------------------------------------------------------------\u001b[0m",
      "\u001b[0;31mIndexError\u001b[0m                                Traceback (most recent call last)",
      "\u001b[0;32m<ipython-input-34-31cfc00b106e>\u001b[0m in \u001b[0;36m<module>\u001b[0;34m\u001b[0m\n\u001b[0;32m----> 1\u001b[0;31m \u001b[0myahoo_financials\u001b[0m\u001b[0;34m.\u001b[0m\u001b[0mget_financial_stmts\u001b[0m\u001b[0;34m(\u001b[0m\u001b[0;34m'annual'\u001b[0m\u001b[0;34m,\u001b[0m\u001b[0;34m'history'\u001b[0m\u001b[0;34m)\u001b[0m\u001b[0;34m\u001b[0m\u001b[0;34m\u001b[0m\u001b[0m\n\u001b[0m",
      "\u001b[0;32m~/anaconda3/envs/localization/lib/python3.6/site-packages/yahoofinancials/__init__.py\u001b[0m in \u001b[0;36mget_financial_stmts\u001b[0;34m(self, frequency, statement_type, reformat)\u001b[0m\n\u001b[1;32m    593\u001b[0m         \u001b[0mreport_num\u001b[0m \u001b[0;34m=\u001b[0m \u001b[0mself\u001b[0m\u001b[0;34m.\u001b[0m\u001b[0mget_report_type\u001b[0m\u001b[0;34m(\u001b[0m\u001b[0mfrequency\u001b[0m\u001b[0;34m)\u001b[0m\u001b[0;34m\u001b[0m\u001b[0;34m\u001b[0m\u001b[0m\n\u001b[1;32m    594\u001b[0m         \u001b[0;32mif\u001b[0m \u001b[0misinstance\u001b[0m\u001b[0;34m(\u001b[0m\u001b[0mstatement_type\u001b[0m\u001b[0;34m,\u001b[0m \u001b[0mstr\u001b[0m\u001b[0;34m)\u001b[0m\u001b[0;34m:\u001b[0m\u001b[0;34m\u001b[0m\u001b[0;34m\u001b[0m\u001b[0m\n\u001b[0;32m--> 595\u001b[0;31m             \u001b[0mdata\u001b[0m \u001b[0;34m=\u001b[0m \u001b[0mself\u001b[0m\u001b[0;34m.\u001b[0m\u001b[0m_run_financial_stmt\u001b[0m\u001b[0;34m(\u001b[0m\u001b[0mstatement_type\u001b[0m\u001b[0;34m,\u001b[0m \u001b[0mreport_num\u001b[0m\u001b[0;34m,\u001b[0m \u001b[0mreformat\u001b[0m\u001b[0;34m)\u001b[0m\u001b[0;34m\u001b[0m\u001b[0;34m\u001b[0m\u001b[0m\n\u001b[0m\u001b[1;32m    596\u001b[0m         \u001b[0;32melse\u001b[0m\u001b[0;34m:\u001b[0m\u001b[0;34m\u001b[0m\u001b[0;34m\u001b[0m\u001b[0m\n\u001b[1;32m    597\u001b[0m             \u001b[0mdata\u001b[0m \u001b[0;34m=\u001b[0m \u001b[0;34m{\u001b[0m\u001b[0;34m}\u001b[0m\u001b[0;34m\u001b[0m\u001b[0;34m\u001b[0m\u001b[0m\n",
      "\u001b[0;32m~/anaconda3/envs/localization/lib/python3.6/site-packages/yahoofinancials/__init__.py\u001b[0m in \u001b[0;36m_run_financial_stmt\u001b[0;34m(self, statement_type, report_num, reformat)\u001b[0m\n\u001b[1;32m    581\u001b[0m     \u001b[0;31m# Private method that handles financial statement extraction\u001b[0m\u001b[0;34m\u001b[0m\u001b[0;34m\u001b[0m\u001b[0;34m\u001b[0m\u001b[0m\n\u001b[1;32m    582\u001b[0m     \u001b[0;32mdef\u001b[0m \u001b[0m_run_financial_stmt\u001b[0m\u001b[0;34m(\u001b[0m\u001b[0mself\u001b[0m\u001b[0;34m,\u001b[0m \u001b[0mstatement_type\u001b[0m\u001b[0;34m,\u001b[0m \u001b[0mreport_num\u001b[0m\u001b[0;34m,\u001b[0m \u001b[0mreformat\u001b[0m\u001b[0;34m)\u001b[0m\u001b[0;34m:\u001b[0m\u001b[0;34m\u001b[0m\u001b[0;34m\u001b[0m\u001b[0m\n\u001b[0;32m--> 583\u001b[0;31m         \u001b[0mreport_name\u001b[0m \u001b[0;34m=\u001b[0m \u001b[0mself\u001b[0m\u001b[0;34m.\u001b[0m\u001b[0mYAHOO_FINANCIAL_TYPES\u001b[0m\u001b[0;34m[\u001b[0m\u001b[0mstatement_type\u001b[0m\u001b[0;34m]\u001b[0m\u001b[0;34m[\u001b[0m\u001b[0mreport_num\u001b[0m\u001b[0;34m]\u001b[0m\u001b[0;34m\u001b[0m\u001b[0;34m\u001b[0m\u001b[0m\n\u001b[0m\u001b[1;32m    584\u001b[0m         \u001b[0;32mif\u001b[0m \u001b[0mreformat\u001b[0m\u001b[0;34m:\u001b[0m\u001b[0;34m\u001b[0m\u001b[0;34m\u001b[0m\u001b[0m\n\u001b[1;32m    585\u001b[0m             \u001b[0mraw_data\u001b[0m \u001b[0;34m=\u001b[0m \u001b[0mself\u001b[0m\u001b[0;34m.\u001b[0m\u001b[0mget_stock_data\u001b[0m\u001b[0;34m(\u001b[0m\u001b[0mstatement_type\u001b[0m\u001b[0;34m,\u001b[0m \u001b[0mreport_name\u001b[0m\u001b[0;34m=\u001b[0m\u001b[0mreport_name\u001b[0m\u001b[0;34m)\u001b[0m\u001b[0;34m\u001b[0m\u001b[0;34m\u001b[0m\u001b[0m\n",
      "\u001b[0;31mIndexError\u001b[0m: list index out of range"
     ]
    }
   ],
   "source": [
    "yahoo_financials.get_financial_stmts('annual','history')"
   ]
  },
  {
   "cell_type": "code",
   "execution_count": null,
   "metadata": {},
   "outputs": [],
   "source": []
  }
 ],
 "metadata": {
  "kernelspec": {
   "display_name": "Python 3",
   "language": "python",
   "name": "python3"
  },
  "language_info": {
   "codemirror_mode": {
    "name": "ipython",
    "version": 3
   },
   "file_extension": ".py",
   "mimetype": "text/x-python",
   "name": "python",
   "nbconvert_exporter": "python",
   "pygments_lexer": "ipython3",
   "version": "3.6.10"
  }
 },
 "nbformat": 4,
 "nbformat_minor": 2
}
