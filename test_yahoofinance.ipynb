{
 "cells": [
  {
   "cell_type": "code",
   "execution_count": 120,
   "metadata": {},
   "outputs": [],
   "source": [
    "from importlib import reload # python 2.7 does not require this\n",
    "from yahoofinancials import YahooFinancials\n",
    "import numpy as np\n",
    "import json as js"
   ]
  },
  {
   "cell_type": "code",
   "execution_count": 121,
   "metadata": {},
   "outputs": [],
   "source": [
    "class cookFinancials(YahooFinancials):\n",
    "    ticker = ''\n",
    "    bshData = []\n",
    "    def __init__(self, ticker):\n",
    "        if isinstance(ticker, str):\n",
    "            self.ticker = ticker.upper()\n",
    "        else:\n",
    "            self.ticker = [t.upper() for t in ticker]\n",
    "        self._cache = {}\n",
    "        \n",
    "    def get_balanceSheetHistory(self):\n",
    "        self.bshData = self.get_financial_stmts('annual', 'balance')['balanceSheetHistory']\n",
    "        return self.bshData\n",
    "    \n",
    "    def get_BV(self, numofYears=20):\n",
    "        bv = []\n",
    "        if not(self.bshData):\n",
    "            self.get_balanceSheetHistory()\n",
    "        for i in range(min(np.size(self.bshData[self.ticker]), numofYears)):\n",
    "            date_key = list(self.bshData[self.ticker][i].keys())[0]\n",
    "            if not(self.bshData[self.ticker][i][date_key]):    \n",
    "                break\n",
    "            bv.append(self.bshData[self.ticker][i][date_key]['totalStockholderEquity'])\n",
    "        return bv   \n",
    "    #use mean of each year    \n",
    "    def get_BV_GR_median(self, bv):\n",
    "        gr = []\n",
    "        for v in range(np.size(bv)-1):\n",
    "            gr.append((bv[v]-bv[v+1])/abs(bv[v+1]))\n",
    "        #print(gr)\n",
    "        return np.size(bv)-1, np.median(gr)\n",
    "    \n",
    "    def get_BV_GR_max(self, bv):\n",
    "        gr = []\n",
    "        for v in range(np.size(bv)-1):\n",
    "            gr.append((bv[v]-bv[v+1])/abs(bv[v+1]))\n",
    "        #print(gr)\n",
    "        return np.size(bv)-1, np.max(gr)\n",
    "    \n",
    "    def get_BV_GR_mean(self, bv):\n",
    "        gr = []\n",
    "        for v in range(np.size(bv)-1):\n",
    "            gr.append((bv[v]-bv[v+1])/abs(bv[v+1]))\n",
    "        #print(gr)\n",
    "        return np.size(bv)-1, np.mean(gr)\n",
    "    \n",
    "    def get_suggest_price(self, cEPS, growth, years, rRate, PE, safty):\n",
    "        if not(cEPS) or not(growth) or not(PE):\n",
    "            return 'NA'\n",
    "        fEPS = cEPS*(1+growth)**years\n",
    "        fPrice = fEPS*PE;\n",
    "        stickerPrice = fPrice/(1+rRate)**years\n",
    "        return stickerPrice, stickerPrice*safty\n",
    "    \n",
    "    def get_PE(self):\n",
    "        #print(self._stock_summary_data('trailingPE'))\n",
    "        #print(self._stock_summary_data('forwardPE'))\n",
    "        if not(self._stock_summary_data('trailingPE')):\n",
    "            return self._stock_summary_data('forwardPE')\n",
    "        if not(self._stock_summary_data('forwardPE')):\n",
    "            return self._stock_summary_data('trailingPE')\n",
    "        return (self._stock_summary_data('trailingPE')+self._stock_summary_data('forwardPE'))/2\n",
    "    \n",
    "    def get_decision(self,suggestPrice, stockprice):\n",
    "        print('suggested price:', suggestPrice)\n",
    "        print('stock price:', stockprice)\n",
    "        if isinstance(suggestPrice, str):\n",
    "            return 'no recommendation due to error'\n",
    "        elif suggestPrice>stockprice:\n",
    "            return 'strong buy' \n",
    "        else:\n",
    "            return 'do not buy'\n",
    "            \n",
    "            \n",
    "        "
   ]
  },
  {
   "cell_type": "code",
   "execution_count": 132,
   "metadata": {},
   "outputs": [],
   "source": [
    "class batch_process:\n",
    "    def __init__(self, tickers, section):\n",
    "        self.tickers = tickers\n",
    "        self.jsfile = section\n",
    "        with open(section, \"w\") as f:\n",
    "            s = {\"data\":[]}\n",
    "            js.dump(s, f, indent = 4)\n",
    "    def batch_run(self):       \n",
    "        for i in range(np.size(self.tickers)):\n",
    "            try:\n",
    "                print(self.tickers[i])\n",
    "                x = cookFinancials(self.tickers[i])\n",
    "                bv = x.get_BV(20)\n",
    "                bv.insert(0, x.get_book_value())\n",
    "                #print(bv)\n",
    "                bvgr = x.get_BV_GR_median(bv)\n",
    "                print(bvgr)\n",
    "                growth = bvgr[1]\n",
    "                cEPS = x.get_earnings_per_share()\n",
    "                years = 3;\n",
    "                rRate = 0.2;\n",
    "                safty = 0.5\n",
    "                PE = x.get_PE()\n",
    "                price=x.get_suggest_price(cEPS, growth, years, rRate, PE, safty)\n",
    "                #print(price)\n",
    "                print(x.get_decision(price[1],x.get_current_price()))\n",
    "                s = {\n",
    "                    self.tickers[i]:{\n",
    "                        \"suggested price\":price[1],\n",
    "                        \"stock price\":x.get_current_price(),\n",
    "                        \"decision\":(x.get_decision(price[1],x.get_current_price()))\n",
    "                    }\n",
    "                }\n",
    "                with open(self.jsfile, \"r\") as f:\n",
    "                    data = js.load(f)\n",
    "                    cont = data['data']\n",
    "                    cont.append(s)\n",
    "                with open(self.jsfile, \"w\") as f:\n",
    "                    js.dump(data, f, indent=4) \n",
    "                print('=====================================')\n",
    "            except Exception:\n",
    "                pass"
   ]
  },
  {
   "cell_type": "code",
   "execution_count": 123,
   "metadata": {},
   "outputs": [],
   "source": [
    "x = cookFinancials('MRVI')"
   ]
  },
  {
   "cell_type": "code",
   "execution_count": 124,
   "metadata": {},
   "outputs": [
    {
     "data": {
      "text/plain": [
       "[141396000, 144405000]"
      ]
     },
     "execution_count": 124,
     "metadata": {},
     "output_type": "execute_result"
    }
   ],
   "source": [
    "bv = x.get_BV(20)\n",
    "bv"
   ]
  },
  {
   "cell_type": "code",
   "execution_count": 125,
   "metadata": {},
   "outputs": [
    {
     "data": {
      "text/plain": [
       "True"
      ]
     },
     "execution_count": 125,
     "metadata": {},
     "output_type": "execute_result"
    }
   ],
   "source": [
    "not(list(x.get_financial_stmts('quarterly', 'balance').values())[0]['MRVI'])"
   ]
  },
  {
   "cell_type": "code",
   "execution_count": 137,
   "metadata": {},
   "outputs": [],
   "source": [
    "try:\n",
    "    x.get_book_value()\n",
    "except Exception:\n",
    "    pass"
   ]
  },
  {
   "cell_type": "code",
   "execution_count": 746,
   "metadata": {},
   "outputs": [
    {
     "name": "stdout",
     "output_type": "stream",
     "text": [
      "(4, 0.3381376283195572)\n"
     ]
    }
   ],
   "source": [
    "bvgr = x.get_BV_GR_median(bv)\n",
    "print(bvgr)"
   ]
  },
  {
   "cell_type": "code",
   "execution_count": 747,
   "metadata": {},
   "outputs": [],
   "source": [
    "growth = bvgr[1]\n",
    "cEPS = x.get_earnings_per_share()\n",
    "years = 3;\n",
    "rRate = 0.2;\n",
    "safty = 0.5\n",
    "PE = x.get_PE()"
   ]
  },
  {
   "cell_type": "code",
   "execution_count": 748,
   "metadata": {},
   "outputs": [
    {
     "name": "stdout",
     "output_type": "stream",
     "text": [
      "2.6480002393131707\n"
     ]
    }
   ],
   "source": [
    "print(x.get_earnings_per_share())\n"
   ]
  },
  {
   "cell_type": "code",
   "execution_count": 749,
   "metadata": {},
   "outputs": [
    {
     "data": {
      "text/plain": [
       "66.858"
      ]
     },
     "execution_count": 749,
     "metadata": {},
     "output_type": "execute_result"
    }
   ],
   "source": [
    "x.get_pe_ratio()\n",
    "x.get_PE()"
   ]
  },
  {
   "cell_type": "code",
   "execution_count": 750,
   "metadata": {},
   "outputs": [
    {
     "name": "stdout",
     "output_type": "stream",
     "text": [
      "2.6480002393131707\n",
      "0.3381376283195572\n",
      "3\n",
      "0.2\n",
      "66.858\n",
      "0.5\n"
     ]
    }
   ],
   "source": [
    "print(cEPS)\n",
    "print(growth)\n",
    "print(years)\n",
    "print(rRate)\n",
    "print(PE)\n",
    "print(safty)"
   ]
  },
  {
   "cell_type": "code",
   "execution_count": 751,
   "metadata": {},
   "outputs": [
    {
     "name": "stdout",
     "output_type": "stream",
     "text": [
      "(245.48785567341707, 122.74392783670854)\n"
     ]
    }
   ],
   "source": [
    "price=x.get_suggest_price(cEPS, growth, years, rRate, PE, safty)\n",
    "print(price)"
   ]
  },
  {
   "cell_type": "code",
   "execution_count": 752,
   "metadata": {},
   "outputs": [
    {
     "name": "stdout",
     "output_type": "stream",
     "text": [
      "suggested price: 122.74392783670854\n",
      "stock price: 177.04\n"
     ]
    },
    {
     "data": {
      "text/plain": [
       "'do not buy'"
      ]
     },
     "execution_count": 752,
     "metadata": {},
     "output_type": "execute_result"
    }
   ],
   "source": [
    "x.get_decision(price[1],x.get_current_price())"
   ]
  },
  {
   "cell_type": "code",
   "execution_count": 56,
   "metadata": {},
   "outputs": [],
   "source": [
    "from get_all_tickers import get_tickers as gt\n",
    "from get_all_tickers.get_tickers import Region"
   ]
  },
  {
   "cell_type": "code",
   "execution_count": 7,
   "metadata": {},
   "outputs": [],
   "source": [
    "tickers = gt.get_tickers()\n",
    "\n"
   ]
  },
  {
   "cell_type": "code",
   "execution_count": 59,
   "metadata": {},
   "outputs": [],
   "source": [
    "filtered_by_sector = gt.get_tickers_filtered(mktcap_min=1e3, sectors=gt.SectorConstants.HEALTH_CARE)"
   ]
  },
  {
   "cell_type": "code",
   "execution_count": 138,
   "metadata": {},
   "outputs": [
    {
     "data": {
      "text/plain": [
       "238"
      ]
     },
     "execution_count": 138,
     "metadata": {},
     "output_type": "execute_result"
    }
   ],
   "source": [
    "filtered_by_sector.index('MRVI')"
   ]
  },
  {
   "cell_type": "code",
   "execution_count": 139,
   "metadata": {},
   "outputs": [],
   "source": [
    "y = batch_process(filtered_by_sector[238:], 'health1.json')"
   ]
  },
  {
   "cell_type": "code",
   "execution_count": null,
   "metadata": {
    "scrolled": false
   },
   "outputs": [
    {
     "name": "stdout",
     "output_type": "stream",
     "text": [
      "MRVI\n",
      "MASI\n",
      "(4, 0.251896314842176)\n",
      "suggested price: 149.0236605221484\n",
      "stock price: 261.47\n",
      "do not buy\n",
      "suggested price: 149.0236605221484\n",
      "stock price: 261.47\n",
      "=====================================\n",
      "MEDP\n",
      "(4, 0.13055547981522453)\n",
      "suggested price: 49.64212837809528\n",
      "stock price: 132.89\n",
      "do not buy\n",
      "suggested price: 49.64212837809528\n",
      "stock price: 132.89\n",
      "=====================================\n",
      "MMSI\n",
      "(4, 0.18799577079680552)\n",
      "suggested price: A\n",
      "stock price: 55.55\n",
      "no recommendation due to error\n",
      "suggested price: A\n",
      "stock price: 55.55\n",
      "=====================================\n",
      "MRSN\n",
      "(4, 2.2464035503769106)\n",
      "suggested price: A\n",
      "stock price: 22.99\n",
      "no recommendation due to error\n",
      "suggested price: A\n",
      "stock price: 22.99\n",
      "=====================================\n",
      "MESO\n",
      "(4, 0.01844483762541113)\n",
      "suggested price: A\n",
      "stock price: 15.74\n",
      "no recommendation due to error\n",
      "suggested price: A\n",
      "stock price: 15.74\n",
      "=====================================\n",
      "MRTX\n",
      "(4, 0.6688382880753934)\n",
      "suggested price: A\n",
      "stock price: 231.51\n",
      "no recommendation due to error\n",
      "suggested price: A\n",
      "stock price: 231.51\n",
      "=====================================\n",
      "MRNA\n"
     ]
    }
   ],
   "source": [
    "y.batch_run()\n"
   ]
  }
 ],
 "metadata": {
  "kernelspec": {
   "display_name": "Python 3",
   "language": "python",
   "name": "python3"
  },
  "language_info": {
   "codemirror_mode": {
    "name": "ipython",
    "version": 3
   },
   "file_extension": ".py",
   "mimetype": "text/x-python",
   "name": "python",
   "nbconvert_exporter": "python",
   "pygments_lexer": "ipython3",
   "version": "3.6.10"
  }
 },
 "nbformat": 4,
 "nbformat_minor": 4
}
