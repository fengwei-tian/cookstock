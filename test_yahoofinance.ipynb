{
 "cells": [
  {
   "cell_type": "code",
   "execution_count": 1,
   "metadata": {},
   "outputs": [],
   "source": [
    "from importlib import reload # python 2.7 does not require this\n",
    "from yahoofinancials import YahooFinancials\n",
    "import numpy as np\n",
    "import json as js\n",
    "import datetime as dt"
   ]
  },
  {
   "cell_type": "code",
   "execution_count": 449,
   "metadata": {},
   "outputs": [],
   "source": [
    "class cookFinancials(YahooFinancials):\n",
    "    ticker = ''\n",
    "    bshData = []\n",
    "    ish = []\n",
    "    cfsh = []\n",
    "    summaryData = []\n",
    "    priceData = []\n",
    "    def __init__(self, ticker):\n",
    "        if isinstance(ticker, str):\n",
    "            self.ticker = ticker.upper()\n",
    "        else:\n",
    "            self.ticker = [t.upper() for t in ticker]\n",
    "        self._cache = {}\n",
    "        \n",
    "    def get_balanceSheetHistory(self):\n",
    "        self.bshData = self.get_financial_stmts('annual', 'balance')['balanceSheetHistory']\n",
    "        return self.bshData\n",
    "    \n",
    "    def get_incomeStatementHistory(self):\n",
    "        self.ish = self.get_financial_stmts('annual', 'income')['incomeStatementHistory']\n",
    "        return self.ish\n",
    "    \n",
    "    def get_cashflowStatementHistory(self):\n",
    "        self.cfsh = self.get_financial_stmts('annual','cash')['cashflowStatementHistory']\n",
    "        return self.cfsh\n",
    "    \n",
    "    def get_BV(self, numofYears=20):\n",
    "        bv = []\n",
    "        if not(self.bshData):\n",
    "            self.get_balanceSheetHistory()\n",
    "        for i in range(min(np.size(self.bshData[self.ticker]), numofYears)):\n",
    "            date_key = list(self.bshData[self.ticker][i].keys())[0]\n",
    "            if not(self.bshData[self.ticker][i][date_key]):    \n",
    "                break\n",
    "            bv.append(self.bshData[self.ticker][i][date_key]['totalStockholderEquity'])\n",
    "        return bv   \n",
    "    \n",
    "    def get_ROIC(self, numofYears=20):\n",
    "        roic = []\n",
    "        if not(self.cfsh):\n",
    "            self.get_cashflowStatementHistory()\n",
    "        if not(self.bshData):\n",
    "            self.get_balanceSheetHistory()\n",
    "        for i in range(min(np.size(self.bshData[self.ticker]), numofYears)):\n",
    "            date_key = list(self.bshData[self.ticker][i].keys())[0]\n",
    "            if not(self.bshData[self.ticker][i][date_key]):    \n",
    "                break\n",
    "            equity = self.bshData[self.ticker][i][date_key]['totalStockholderEquity']\n",
    "            if self.bshData[self.ticker][i][date_key].get('shortLongTermDebt') is None or not(self.bshData[self.ticker][i][date_key]['shortLongTermDebt']):\n",
    "                debt_short = 0\n",
    "            else:\n",
    "                debt_short = self.bshData[self.ticker][i][date_key].get('shortLongTermDebt')\n",
    "            if self.bshData[self.ticker][i][date_key].get('longTermDebt') is None or not(self.bshData[self.ticker][i][date_key]['longTermDebt']) :\n",
    "                debt_long = 0\n",
    "            else:\n",
    "                debt_long = self.bshData[self.ticker][i][date_key]['longTermDebt']\n",
    "            debt = debt_short + debt_long\n",
    "            date_key = list(self.cfsh[self.ticker][i].keys())[0]\n",
    "            if not(self.cfsh[self.ticker][i][date_key]):    \n",
    "                break\n",
    "            netincome = self.cfsh[self.ticker][i][date_key]['netIncome']\n",
    "            roic_year = netincome/(equity + debt)\n",
    "            roic.append(roic_year)\n",
    "        return roic \n",
    "    \n",
    "    def get_totalCashFromOperatingActivities(self, numofYears=20):\n",
    "        totalCash = []\n",
    "        if not(self.cfsh):\n",
    "            self.get_cashflowStatementHistory()        \n",
    "        for i in range(min(np.size(self.cfsh[self.ticker]), numofYears)):\n",
    "            date_key = list(self.cfsh[self.ticker][i].keys())[0]\n",
    "            if not(self.cfsh[self.ticker][i][date_key]):    \n",
    "                break\n",
    "            totalCash.append(self.cfsh[self.ticker][i][date_key]['totalCashFromOperatingActivities'])  \n",
    "        return totalCash\n",
    "    \n",
    "    def get_pricetoSales(self):\n",
    "        if not(self.summaryData):\n",
    "            self.summaryData = self.get_summary_data()\n",
    "        if not(self.summaryData[self.ticker]):\n",
    "            return 'na'\n",
    "        return self.summaryData[self.ticker]['priceToSalesTrailing12Months']\n",
    "    \n",
    "    def get_marketCap_B(self):\n",
    "        if not(self.summaryData):\n",
    "            self.summaryData = self.get_summary_data()\n",
    "        if not(self.summaryData[self.ticker]):\n",
    "            return 'na'\n",
    "        return self.summaryData[self.ticker]['marketCap']/1000000000\n",
    "    \n",
    "    def get_CF_GR_median(self, totalCash):\n",
    "        gr = []\n",
    "        for v in range(np.size(totalCash)-1):\n",
    "            gr.append((totalCash[v]-totalCash[v+1])/abs(totalCash[v+1]))\n",
    "        #print(gr)\n",
    "        return np.size(totalCash)-1, np.median(gr) \n",
    "    \n",
    "    #use mean of each year    \n",
    "    def get_BV_GR_median(self, bv):\n",
    "        gr = []\n",
    "        for v in range(np.size(bv)-1):\n",
    "            gr.append((bv[v]-bv[v+1])/abs(bv[v+1]))\n",
    "        #print(gr)\n",
    "        return np.size(bv)-1, np.median(gr)\n",
    "    \n",
    "    #use mean of each year    \n",
    "    def get_ROIC_median(self, roic):\n",
    "        return np.size(roic), np.median(roic)\n",
    "    \n",
    "    def get_BV_GR_max(self, bv):\n",
    "        gr = []\n",
    "        for v in range(np.size(bv)-1):\n",
    "            gr.append((bv[v]-bv[v+1])/abs(bv[v+1]))\n",
    "        #print(gr)\n",
    "        return np.size(bv)-1, np.max(gr)\n",
    "    \n",
    "    def growthRate(self, cur,init, years):\n",
    "        if cur <=0 or init<=0:\n",
    "            return -1\n",
    "        return (cur/init)**(1/years)-1\n",
    "    \n",
    "    def get_BV_GR_mean(self, bv):\n",
    "        gr = []\n",
    "        BV_GR = self.growthRate(bv[0], bv[np.size(bv)-1], np.size(bv)-1)\n",
    "        if BV_GR==-1:\n",
    "            for v in range(np.size(bv)-1):\n",
    "                gr.append((bv[v]-bv[v+1])/abs(bv[v+1]))\n",
    "            BV_GR = np.mean(gr)\n",
    "        return np.size(bv)-1, BV_GR\n",
    "    \n",
    "    def get_suggest_price(self, cEPS, growth, years, rRate, PE, safty):\n",
    "        if not(cEPS) or not(growth) or not(PE):\n",
    "            return 'NA'\n",
    "        fEPS = cEPS*(1+growth)**years\n",
    "        fPrice = fEPS*PE;\n",
    "        stickerPrice = fPrice/(1+rRate)**years\n",
    "        return stickerPrice, stickerPrice*safty\n",
    "    \n",
    "    def payBackTime(self, price, cEPS, growth):\n",
    "        tmp = 0\n",
    "        i = 0\n",
    "        if cEPS < 0:\n",
    "            return 0\n",
    "        while(growth>0):\n",
    "            i+=1\n",
    "            tmp = tmp + cEPS*(1+growth)**i\n",
    "            if (tmp>price):\n",
    "                break\n",
    "        return i\n",
    "    \n",
    "    def get_earningsperShare(self):\n",
    "        eps = x.get_earnings_per_share()\n",
    "        if not(eps):\n",
    "            eps = x.get_key_statistics_data()[self.ticker]['trailingEps']\n",
    "        print(eps)\n",
    "        return eps\n",
    "    \n",
    "    def get_PE(self):\n",
    "        #print(self._stock_summary_data('trailingPE'))\n",
    "        #print(self._stock_summary_data('forwardPE'))\n",
    "        if not(self._stock_summary_data('trailingPE')):\n",
    "            return self._stock_summary_data('forwardPE')\n",
    "        if not(self._stock_summary_data('forwardPE')):\n",
    "            return self._stock_summary_data('trailingPE')\n",
    "        return (self._stock_summary_data('trailingPE')+self._stock_summary_data('forwardPE'))/2\n",
    "    \n",
    "    def get_decision(self,suggestPrice, stockprice):\n",
    "        #print('suggested price:', suggestPrice)\n",
    "        #print('stock price:', stockprice)\n",
    "        if isinstance(suggestPrice, str):\n",
    "            return 'skip due to negative eps'\n",
    "        elif suggestPrice>stockprice:\n",
    "            return 'strong buy' \n",
    "        else:\n",
    "            return 'do not buy'   \n",
    "    def get_ma(self, date_from, data_to):\n",
    "        data = self.get_historical_price_data(date_from,date_to, 'daily')\n",
    "        tmp = 0\n",
    "        if not(data[self.ticker]['prices']):\n",
    "            return -1\n",
    "        for i in range(len(data[self.ticker]['prices'])):\n",
    "            #print(data[self.ticker]['prices'][i]['formatted_date'])\n",
    "            tmp = tmp + data[self.ticker]['prices'][i]['close']\n",
    "        return tmp/(i+1)\n",
    "    def get_ma_50(self, date):\n",
    "        date_from = str(date - dt.timedelta(days=50))\n",
    "        date_to = str(date)\n",
    "        return self.get_ma(date_from, date_to)\n",
    "    def get_ma_200(self, date):\n",
    "        date_from = str(date - dt.timedelta(days=200))\n",
    "        date_to = str(date)\n",
    "        return self.get_ma(date_from, date_to)\n",
    "    def get_ma_150(self, date):\n",
    "        date_from = str(date - dt.timedelta(days=150))\n",
    "        date_to = str(date)\n",
    "        return self.get_ma(date_from, date_to)\n",
    "    def get_30day_trend_ma200(self):\n",
    "        ###no need to look at everyday, just check last, mid, current\n",
    "        current = self.get_ma_200((dt.date.today()))\n",
    "        #print(dt.date.today())\n",
    "        #print(current)\n",
    "        mid = self.get_ma_200((dt.date.today()-dt.timedelta(days=15)))\n",
    "        #print(dt.date.today()-dt.timedelta(days=15))\n",
    "        #print(mid)\n",
    "        last = self.get_ma_200((dt.date.today()-dt.timedelta(days=30)))\n",
    "        #print(dt.date.today()-dt.timedelta(days=30))\n",
    "        #print(last)\n",
    "        if current - mid > 0 and mid -last > 0:\n",
    "            return 1\n",
    "        else:\n",
    "            return -1\n",
    "    def mv_strategy(self):\n",
    "        currentPrice = self.get_current_price()\n",
    "        price50 = self.get_ma_50(dt.date.today())\n",
    "        price150 = self.get_ma_150(dt.date.today())\n",
    "        price200 = self.get_ma_200(dt.date.today())\n",
    "        if currentPrice > price50 and currentPrice > price150 and currentPrice > price200 and price150 > price200 and price50 > price150 and price50 > price200 and self.get_30day_trend_ma200() == 1:\n",
    "            return 1\n",
    "        else:\n",
    "            return -1  \n",
    "        \n",
    "    def get_vol(self, checkDays, avrgDays):\n",
    "        date = dt.date.today()\n",
    "        vol3day = []\n",
    "        vol50day = []\n",
    "        self.priceData = self.get_historical_price_data(str(date -  dt.timedelta(days=365)), str(date), 'daily')\n",
    "        length = len(self.priceData[self.ticker]['prices'])\n",
    "        for i in range(checkDays):\n",
    "            vol3day.append(self.priceData[self.ticker]['prices'][length-1-i]['volume'])\n",
    "        for i in range(avrgDays):\n",
    "            vol50day.append(self.priceData[self.ticker]['prices'][length-1-checkDays-i]['volume'])\n",
    "        return vol3day, np.sum(vol3day)/checkDays, vol50day, np.sum(vol50day)/avrgDays\n",
    "    \n",
    "    def vol_strategy(self):\n",
    "        v3,a3,v50,a50 = self.get_vol(3, 50)\n",
    "        if a3>a50*2:\n",
    "            return 1\n",
    "        else:\n",
    "            return -1\n",
    "        \n",
    "    def price_strategy(self):\n",
    "        closePrice = []\n",
    "        if not(self.priceData):\n",
    "            date = dt.date.today()\n",
    "            self.priceData = self.get_historical_price_data(str(date -  dt.timedelta(days=365)), str(date), 'daily')\n",
    "        length = len(self.priceData[self.ticker]['prices'])\n",
    "        for i in range(length):\n",
    "            closePrice.append(self.priceData[self.ticker]['prices'][i]['close'])\n",
    "        lowestPrice = np.min(closePrice)\n",
    "        currentPrice = self.get_current_price()\n",
    "        highestPrice = np.max(closePrice)\n",
    "        #print(currentPrice, lowestPrice, highestPrice)\n",
    "        if currentPrice > lowestPrice*(1+0.3) and currentPrice > 0.75*highestPrice:\n",
    "            return 1\n",
    "        else:\n",
    "            return -1\n",
    "        \n",
    "    def combine_strategy(self):\n",
    "        if self.mv_strategy() and self.vol_strategy() and self.price_strategy():\n",
    "            return 1\n",
    "        else:\n",
    "            return -1\n",
    "        \n",
    "        \n",
    "    def get_3day_vol(self):\n",
    "        count = 0\n",
    "        date = dt.date.today()\n",
    "        vol = []\n",
    "        while count < 3:\n",
    "            print('request date: ',date)\n",
    "            data = self.get_historical_price_data(str(date),str(date + dt.timedelta(days=1)), 'daily')\n",
    "            if not(data[self.ticker]['prices']):\n",
    "                date = date - dt.timedelta(days=1)\n",
    "                continue\n",
    "            else:\n",
    "                print('response date: ', data[self.ticker]['prices'][0]['formatted_date'])\n",
    "                vol.append(data[self.ticker]['prices'][0]['volume'])\n",
    "                count = count + 1\n",
    "                date = date - dt.timedelta(days=1)\n",
    "        return vol, np.sum(vol)/3"
   ]
  },
  {
   "cell_type": "code",
   "execution_count": 455,
   "metadata": {},
   "outputs": [],
   "source": [
    "class batch_process:\n",
    "    def __init__(self, tickers, section):\n",
    "        self.tickers = tickers\n",
    "        self.jsfile = section\n",
    "        with open(section, \"w\") as f:\n",
    "            s = {\"data\":[]}\n",
    "            js.dump(s, f, indent = 4)\n",
    "            \n",
    "    def batch_strategy(self):\n",
    "        for i in range(np.size(self.tickers)):\n",
    "            try:\n",
    "                print(self.tickers[i])\n",
    "                x = cookFinancials(self.tickers[i])\n",
    "                s1=0\n",
    "                s2=0\n",
    "                s3=0\n",
    "                if x.mv_strategy()==1:\n",
    "                    s1 = 1\n",
    "                    print(\"passing moving average strategy\")\n",
    "                if x.vol_strategy() == 1:\n",
    "                    s2 = 1\n",
    "                    print(\"passing 3 day volume strategy\")\n",
    "                if x.price_strategy() == 1:\n",
    "                    s3 = 1\n",
    "                    print(\"passing price strategy\")\n",
    "                if s1==1 and s2==1 and s3==1:\n",
    "                    print(\"congrats, this stock passes all strategys, check yahoo finance to see how expert say\")\n",
    "            except Exception:\n",
    "                pass\n",
    "                          \n",
    "    def batch_financial(self):       \n",
    "        for i in range(np.size(self.tickers)):\n",
    "            try:\n",
    "                print(self.tickers[i])\n",
    "                x = cookFinancials(self.tickers[i])\n",
    "                bv = x.get_BV(20)\n",
    "                bv.insert(0, x.get_book_value())\n",
    "                print(bv)\n",
    "                bvgr = x.get_BV_GR_median(bv)\n",
    "                print(bvgr)\n",
    "                growth = bvgr[1]\n",
    "                cEPS = x.get_earnings_per_share()\n",
    "                print(cEPS)\n",
    "                years = 3;\n",
    "                rRate = 0.25;\n",
    "                safty = 0.5\n",
    "                PE = x.get_PE()\n",
    "                price=x.get_suggest_price(cEPS, growth, years, rRate, PE, safty)\n",
    "                print(price)\n",
    "                stickerPrice = x.get_current_price()\n",
    "                decision = x.get_decision(price[1],stickerPrice)\n",
    "                print(decision)\n",
    "                y2pb = 0\n",
    "                roic = 0\n",
    "                mcap = 0\n",
    "                cashflow = 0\n",
    "                priceSales = 0\n",
    "                if decision == 'strong buy':\n",
    "                    y2pb = x.payBackTime(stickerPrice, cEPS, growth)\n",
    "                    roic = x.get_ROIC()\n",
    "                    mcap = x.get_marketCap_B()\n",
    "                    cashflow = (x.get_totalCashFromOperatingActivities())\n",
    "                    priceSales = x.get_pricetoSales()               \n",
    "                s = {\n",
    "                    self.tickers[i]:{\n",
    "                        \"decision\":decision,\n",
    "                        \"suggested price\":price[1],\n",
    "                        \"stock price\":x.get_current_price(),                     \n",
    "                        \"Payback years\": y2pb,\n",
    "                        \"Book Value\": bv,\n",
    "                        \"ROIC\": roic,\n",
    "                        \"market cap (b)\": mcap,\n",
    "                        \"cashflow\": cashflow,\n",
    "                        \"priceSalesRatio\":priceSales,\n",
    "                        \"PE\": PE\n",
    "                    }\n",
    "                }\n",
    "                print(s)\n",
    "                with open(self.jsfile, \"r\") as f:\n",
    "                    data = js.load(f)\n",
    "                    cont = data['data']\n",
    "                    cont.append(s)\n",
    "                with open(self.jsfile, \"w\") as f:\n",
    "                    js.dump(data, f, indent=4) \n",
    "                print('=====================================')\n",
    "            except Exception:\n",
    "                pass"
   ]
  },
  {
   "cell_type": "code",
   "execution_count": 423,
   "metadata": {},
   "outputs": [],
   "source": [
    "x = cookFinancials('MGLN')\n",
    "date_from = str(dt.date.today() - dt.timedelta(days=2))\n",
    "date_to = str(dt.date.today())"
   ]
  },
  {
   "cell_type": "code",
   "execution_count": 189,
   "metadata": {},
   "outputs": [
    {
     "data": {
      "text/plain": [
       "76.30277335730783"
      ]
     },
     "execution_count": 189,
     "metadata": {},
     "output_type": "execute_result"
    }
   ],
   "source": [
    "x.get_ma_200(dt.date.today())"
   ]
  },
  {
   "cell_type": "code",
   "execution_count": 197,
   "metadata": {},
   "outputs": [
    {
     "name": "stdout",
     "output_type": "stream",
     "text": [
      "2021-01-04\n",
      "76.30277335730783\n",
      "2020-12-20\n",
      "76.02905376537426\n",
      "2020-12-05\n",
      "75.79968319663519\n"
     ]
    },
    {
     "data": {
      "text/plain": [
       "1"
      ]
     },
     "execution_count": 197,
     "metadata": {},
     "output_type": "execute_result"
    }
   ],
   "source": [
    "x.get_30day_trend_ma200()"
   ]
  },
  {
   "cell_type": "code",
   "execution_count": 198,
   "metadata": {},
   "outputs": [
    {
     "name": "stdout",
     "output_type": "stream",
     "text": [
      "2021-01-04\n",
      "76.30277335730783\n",
      "2020-12-20\n",
      "76.02905376537426\n",
      "2020-12-05\n",
      "75.79968319663519\n"
     ]
    },
    {
     "data": {
      "text/plain": [
       "1"
      ]
     },
     "execution_count": 198,
     "metadata": {},
     "output_type": "execute_result"
    }
   ],
   "source": [
    "x.mv_strategy()"
   ]
  },
  {
   "cell_type": "code",
   "execution_count": 326,
   "metadata": {},
   "outputs": [],
   "source": [
    "a,b,c,d = x.get_vol(4,50)"
   ]
  },
  {
   "cell_type": "code",
   "execution_count": 349,
   "metadata": {},
   "outputs": [
    {
     "data": {
      "text/plain": [
       "1"
      ]
     },
     "execution_count": 349,
     "metadata": {},
     "output_type": "execute_result"
    }
   ],
   "source": [
    "x.vol_strategy()"
   ]
  },
  {
   "cell_type": "code",
   "execution_count": 410,
   "metadata": {},
   "outputs": [
    {
     "name": "stdout",
     "output_type": "stream",
     "text": [
      "94.48 32.56999969482422 93.63999938964844\n"
     ]
    },
    {
     "data": {
      "text/plain": [
       "1"
      ]
     },
     "execution_count": 410,
     "metadata": {},
     "output_type": "execute_result"
    }
   ],
   "source": [
    "x.price_strategy()"
   ]
  },
  {
   "cell_type": "code",
   "execution_count": 424,
   "metadata": {},
   "outputs": [
    {
     "name": "stdout",
     "output_type": "stream",
     "text": [
      "2021-01-05\n",
      "76.46613100149335\n",
      "2020-12-21\n",
      "76.16763486088934\n",
      "2020-12-06\n",
      "75.94867054420182\n",
      "94.46 32.56999969482422 93.63999938964844\n"
     ]
    },
    {
     "data": {
      "text/plain": [
       "1"
      ]
     },
     "execution_count": 424,
     "metadata": {},
     "output_type": "execute_result"
    }
   ],
   "source": [
    "x.combine_strategy()"
   ]
  },
  {
   "cell_type": "code",
   "execution_count": 546,
   "metadata": {},
   "outputs": [
    {
     "name": "stdout",
     "output_type": "stream",
     "text": [
      "[1499918000, 833943000, -7439000, -26671000, -28838000]\n",
      "(4, 0.7598342893514913)\n"
     ]
    }
   ],
   "source": [
    "bv = x.get_BV(20)\n",
    "bv.insert(0, x.get_book_value())\n",
    "print(bv)\n",
    "bvgr = x.get_BV_GR_median(bv)\n",
    "print(bvgr)\n",
    "growth = bvgr[1]\n",
    "cEPS = x.get_earnings_per_share()\n",
    "years = 3;\n",
    "rRate = 0.25;\n",
    "safty = 0.5\n",
    "PE = x.get_PE()\n",
    "price=x.get_suggest_price(cEPS, growth, years, rRate, PE, safty)\n",
    "                "
   ]
  },
  {
   "cell_type": "code",
   "execution_count": 547,
   "metadata": {},
   "outputs": [
    {
     "name": "stdout",
     "output_type": "stream",
     "text": [
      "(775.3858606329167, 387.69293031645833)\n",
      "strong buy\n"
     ]
    }
   ],
   "source": [
    "print(price)\n",
    "stickerPrice = x.get_current_price()\n",
    "decision = x.get_decision(price[1],stickerPrice)\n",
    "print(decision)\n",
    "y2pb = 0\n",
    "roic = 0\n",
    "mcap = 0\n",
    "priceSales = 0"
   ]
  },
  {
   "cell_type": "code",
   "execution_count": 456,
   "metadata": {},
   "outputs": [],
   "source": [
    "from get_all_tickers import get_tickers as gt\n",
    "from get_all_tickers.get_tickers import Region"
   ]
  },
  {
   "cell_type": "code",
   "execution_count": 457,
   "metadata": {},
   "outputs": [],
   "source": [
    "tickers = gt.get_tickers()\n",
    "\n"
   ]
  },
  {
   "cell_type": "code",
   "execution_count": 465,
   "metadata": {},
   "outputs": [],
   "source": [
    "filtered_by_sector = gt.get_tickers_filtered(mktcap_max=1e3, sectors=gt.SectorConstants.ENERGY)"
   ]
  },
  {
   "cell_type": "code",
   "execution_count": 466,
   "metadata": {},
   "outputs": [
    {
     "data": {
      "text/plain": [
       "['ARCH',\n",
       " 'AT',\n",
       " 'BCEI',\n",
       " 'BORR',\n",
       " 'BPT',\n",
       " 'MNRL',\n",
       " 'CPE',\n",
       " 'CYD',\n",
       " 'CEIX',\n",
       " 'CTRA',\n",
       " 'CRT',\n",
       " 'CAPL',\n",
       " 'ESTE',\n",
       " 'ERF',\n",
       " 'FET',\n",
       " 'FI',\n",
       " 'GEL',\n",
       " 'GPRK',\n",
       " 'GLP',\n",
       " 'HLX',\n",
       " 'HESM',\n",
       " 'HPR',\n",
       " 'ICD',\n",
       " 'IO',\n",
       " 'KRP',\n",
       " 'KOS',\n",
       " 'LPI',\n",
       " 'MTR',\n",
       " 'AMPY',\n",
       " 'MVO',\n",
       " 'NBR',\n",
       " 'NGS',\n",
       " 'NRP',\n",
       " 'NR',\n",
       " 'NEX',\n",
       " 'NGL',\n",
       " 'NINE',\n",
       " 'NOA',\n",
       " 'NRT',\n",
       " 'DNOW',\n",
       " 'OII',\n",
       " 'OIS',\n",
       " 'PARR',\n",
       " 'PBF',\n",
       " 'PBFX',\n",
       " 'BTU',\n",
       " 'PBT',\n",
       " 'PVL',\n",
       " 'PRT',\n",
       " 'PHX',\n",
       " 'PDS',\n",
       " 'PUMP',\n",
       " 'QEP',\n",
       " 'RNGR',\n",
       " 'RES',\n",
       " 'SBR',\n",
       " 'SJT',\n",
       " 'SD',\n",
       " 'WTTR',\n",
       " 'SBOW',\n",
       " 'SM',\n",
       " 'SOI',\n",
       " 'SRLP',\n",
       " 'TALO',\n",
       " 'TTI',\n",
       " 'THR',\n",
       " 'TREC',\n",
       " 'EGY',\n",
       " 'VET',\n",
       " 'VIST',\n",
       " 'VOC',\n",
       " 'WTI',\n",
       " 'AXAS',\n",
       " 'ARLP',\n",
       " 'BRY',\n",
       " 'BKEP',\n",
       " 'CLMT',\n",
       " 'CPST',\n",
       " 'CDEV',\n",
       " 'CCLP',\n",
       " 'DWSN',\n",
       " 'DMLP',\n",
       " 'EPSN',\n",
       " 'FLMN',\n",
       " 'HNRG',\n",
       " 'HOLI',\n",
       " 'IPWR',\n",
       " 'KLXE',\n",
       " 'TUSK',\n",
       " 'MARPS',\n",
       " 'MMLP',\n",
       " 'MCEP',\n",
       " 'NESR',\n",
       " 'NCSM',\n",
       " 'NBLX',\n",
       " 'OMP',\n",
       " 'OAS',\n",
       " 'PVAC',\n",
       " 'PNRG',\n",
       " 'PFIE',\n",
       " 'METC',\n",
       " 'RCON',\n",
       " 'SNDE',\n",
       " 'TELL',\n",
       " 'TRCH',\n",
       " 'TGA',\n",
       " 'USEG',\n",
       " 'USWS',\n",
       " 'VTNR',\n",
       " 'WPRT',\n",
       " 'AE',\n",
       " 'BRN',\n",
       " 'BATL',\n",
       " 'CEI',\n",
       " 'CKX',\n",
       " 'MCF',\n",
       " 'ENSV',\n",
       " 'EPM',\n",
       " 'FTSI',\n",
       " 'GDP',\n",
       " 'GTE',\n",
       " 'HUSA',\n",
       " 'INDO',\n",
       " 'MXC',\n",
       " 'GBR',\n",
       " 'NES',\n",
       " 'PED',\n",
       " 'REI',\n",
       " 'SNMP',\n",
       " 'SDPI',\n",
       " 'TGC']"
      ]
     },
     "execution_count": 466,
     "metadata": {},
     "output_type": "execute_result"
    }
   ],
   "source": [
    "filtered_by_sector"
   ]
  },
  {
   "cell_type": "code",
   "execution_count": 467,
   "metadata": {},
   "outputs": [],
   "source": [
    "y = batch_process(filtered_by_sector, 'energy_under1b_strategy.json')"
   ]
  },
  {
   "cell_type": "code",
   "execution_count": null,
   "metadata": {
    "scrolled": false
   },
   "outputs": [
    {
     "name": "stdout",
     "output_type": "stream",
     "text": [
      "ARCH\n",
      "passing moving average strategy\n",
      "AT\n",
      "BCEI\n",
      "passing moving average strategy\n",
      "passing price strategy\n",
      "BORR\n",
      "BPT\n",
      "MNRL\n",
      "CPE\n",
      "CYD\n",
      "passing price strategy\n",
      "CEIX\n",
      "passing 3 day volume strategy\n",
      "CTRA\n"
     ]
    }
   ],
   "source": [
    "y.batch_strategy()\n"
   ]
  },
  {
   "cell_type": "code",
   "execution_count": null,
   "metadata": {},
   "outputs": [],
   "source": [
    "t = 'VCEL'"
   ]
  },
  {
   "cell_type": "code",
   "execution_count": 165,
   "metadata": {},
   "outputs": [
    {
     "data": {
      "text/plain": [
       "'C'"
      ]
     },
     "execution_count": 165,
     "metadata": {},
     "output_type": "execute_result"
    }
   ],
   "source": [
    "t[1]"
   ]
  }
 ],
 "metadata": {
  "kernelspec": {
   "display_name": "Python 3",
   "language": "python",
   "name": "python3"
  },
  "language_info": {
   "codemirror_mode": {
    "name": "ipython",
    "version": 3
   },
   "file_extension": ".py",
   "mimetype": "text/x-python",
   "name": "python",
   "nbconvert_exporter": "python",
   "pygments_lexer": "ipython3",
   "version": "3.6.10"
  }
 },
 "nbformat": 4,
 "nbformat_minor": 4
}
