{
 "cells": [
  {
   "cell_type": "code",
   "execution_count": 156,
   "metadata": {},
   "outputs": [],
   "source": [
    "from yahoofinancials import YahooFinancials\n",
    "import numpy as np"
   ]
  },
  {
   "cell_type": "code",
   "execution_count": 268,
   "metadata": {},
   "outputs": [],
   "source": [
    "class coolFinancials(YahooFinancials):\n",
    "    ticker = ''\n",
    "    bshData = []\n",
    "    def __init__(self, ticker):\n",
    "        if isinstance(ticker, str):\n",
    "            self.ticker = ticker.upper()\n",
    "        else:\n",
    "            self.ticker = [t.upper() for t in ticker]\n",
    "        self._cache = {}\n",
    "        \n",
    "    def get_balanceSheetHistory(self):\n",
    "        self.bshData = self.get_financial_stmts('annual', 'balance')['balanceSheetHistory']\n",
    "        return self.bshData\n",
    "    \n",
    "    def get_BV(self):\n",
    "        bv = []\n",
    "        if not(self.bshData):\n",
    "            self.get_balanceSheetHistory()\n",
    "        for i in range(np.size(self.bshData[self.ticker])):\n",
    "            date_key = list(self.bshData[self.ticker][i].keys())[0]\n",
    "            bv.append(self.bshData[self.ticker][i][date_key]['totalStockholderEquity'])\n",
    "        return bv   \n",
    "        \n",
    "    def get_BV_GR(self, bv):\n",
    "        return [np.size(bv)-1, (bv[0] - bv[-1])/(bv[-1]*(np.size(bv)-1))]\n",
    "    \n",
    "    def get_purchase_price(self, cEPS, growth, years, rRate, PE, safty):\n",
    "        fEPS = cEPS*(1+growth)**years\n",
    "        fPrice = fEPS*PE;\n",
    "        stickerPrice = fPrice/(1+rRate)**years\n",
    "        return stickerPrice, stickerPrice*safty\n",
    "    \n",
    "    def get_PE(self):\n",
    "        return (self._stock_summary_data('trailingPE')+self._stock_summary_data('forwardPE'))/2\n",
    "            \n",
    "            \n",
    "        "
   ]
  },
  {
   "cell_type": "code",
   "execution_count": 270,
   "metadata": {},
   "outputs": [],
   "source": [
    "x = coolFinancials('TSLA')"
   ]
  },
  {
   "cell_type": "code",
   "execution_count": 271,
   "metadata": {},
   "outputs": [],
   "source": [
    "bv = x.get_BV()"
   ]
  },
  {
   "cell_type": "code",
   "execution_count": 272,
   "metadata": {},
   "outputs": [
    {
     "name": "stdout",
     "output_type": "stream",
     "text": [
      "[16031000000, 6618000000, 4923000000, 4237242000, 4752911000]\n"
     ]
    }
   ],
   "source": [
    "bv.insert(0, x.get_book_value())\n",
    "print(bv)"
   ]
  },
  {
   "cell_type": "code",
   "execution_count": 273,
   "metadata": {},
   "outputs": [],
   "source": [
    "bvgr = x.get_BV_GR(bv)"
   ]
  },
  {
   "cell_type": "code",
   "execution_count": 279,
   "metadata": {},
   "outputs": [],
   "source": [
    "growth = bvgr[1]\n",
    "cEPS = x.get_earnings_per_share()\n",
    "years = 8;\n",
    "rRate = 0.2;\n",
    "safty = 0.5\n",
    "PE = x.get_PE()"
   ]
  },
  {
   "cell_type": "code",
   "execution_count": 275,
   "metadata": {},
   "outputs": [
    {
     "data": {
      "text/plain": [
       "634.01323"
      ]
     },
     "execution_count": 275,
     "metadata": {},
     "output_type": "execute_result"
    }
   ],
   "source": [
    "x.get_pe_ratio()\n",
    "x.get_PE()"
   ]
  },
  {
   "cell_type": "code",
   "execution_count": 280,
   "metadata": {},
   "outputs": [
    {
     "name": "stdout",
     "output_type": "stream",
     "text": [
      "(3201.5198354392187, 1600.7599177196093)\n"
     ]
    }
   ],
   "source": [
    "print(x.get_purchase_price(cEPS, growth, years, rRate, PE, safty))"
   ]
  }
 ],
 "metadata": {
  "kernelspec": {
   "display_name": "Python 3",
   "language": "python",
   "name": "python3"
  },
  "language_info": {
   "codemirror_mode": {
    "name": "ipython",
    "version": 3
   },
   "file_extension": ".py",
   "mimetype": "text/x-python",
   "name": "python",
   "nbconvert_exporter": "python",
   "pygments_lexer": "ipython3",
   "version": "3.6.10"
  }
 },
 "nbformat": 4,
 "nbformat_minor": 4
}
