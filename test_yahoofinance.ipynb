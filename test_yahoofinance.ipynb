{
 "cells": [
  {
   "cell_type": "code",
   "execution_count": 386,
   "metadata": {},
   "outputs": [],
   "source": [
    "from yahoofinancials import YahooFinancials\n",
    "import numpy as np"
   ]
  },
  {
   "cell_type": "code",
   "execution_count": 387,
   "metadata": {},
   "outputs": [],
   "source": [
    "class cookFinancials(YahooFinancials):\n",
    "    ticker = ''\n",
    "    bshData = []\n",
    "    def __init__(self, ticker):\n",
    "        if isinstance(ticker, str):\n",
    "            self.ticker = ticker.upper()\n",
    "        else:\n",
    "            self.ticker = [t.upper() for t in ticker]\n",
    "        self._cache = {}\n",
    "        \n",
    "    def get_balanceSheetHistory(self):\n",
    "        self.bshData = self.get_financial_stmts('annual', 'balance')['balanceSheetHistory']\n",
    "        return self.bshData\n",
    "    \n",
    "    def get_BV(self, numofYears=20):\n",
    "        bv = []\n",
    "        if not(self.bshData):\n",
    "            self.get_balanceSheetHistory()\n",
    "        for i in range(min(np.size(self.bshData[self.ticker]), numofYears)):\n",
    "            date_key = list(self.bshData[self.ticker][i].keys())[0]\n",
    "            bv.append(self.bshData[self.ticker][i][date_key]['totalStockholderEquity'])\n",
    "        return bv   \n",
    "    #use mean of each year    \n",
    "    def get_BV_GR_median(self, bv):\n",
    "        gr = []\n",
    "        for v in range(np.size(bv)-1):\n",
    "            gr.append((bv[v]-bv[v+1])/abs(bv[v+1]))\n",
    "        print(gr)\n",
    "        return np.size(bv)-1, np.median(gr)\n",
    "    \n",
    "    def get_BV_GR_max(self, bv):\n",
    "        gr = []\n",
    "        for v in range(np.size(bv)-1):\n",
    "            gr.append((bv[v]-bv[v+1])/abs(bv[v+1]))\n",
    "        print(gr)\n",
    "        return np.size(bv)-1, np.max(gr)\n",
    "    \n",
    "    def get_BV_GR_mean(self, bv):\n",
    "        gr = []\n",
    "        for v in range(np.size(bv)-1):\n",
    "            gr.append((bv[v]-bv[v+1])/abs(bv[v+1]))\n",
    "        print(gr)\n",
    "        return np.size(bv)-1, np.mean(gr)\n",
    "    \n",
    "    def get_suggest_price(self, cEPS, growth, years, rRate, PE, safty):\n",
    "        fEPS = cEPS*(1+growth)**years\n",
    "        fPrice = fEPS*PE;\n",
    "        stickerPrice = fPrice/(1+rRate)**years\n",
    "        return stickerPrice, stickerPrice*safty\n",
    "    \n",
    "    def get_PE(self):\n",
    "        print(self._stock_summary_data('trailingPE'))\n",
    "        print(self._stock_summary_data('forwardPE'))\n",
    "        if not(self._stock_summary_data('trailingPE')):\n",
    "            return self._stock_summary_data('forwardPE')\n",
    "        return (self._stock_summary_data('trailingPE')+self._stock_summary_data('forwardPE'))/2\n",
    "    \n",
    "    def get_decision(self,suggestPrice, stockprice):\n",
    "        print(suggestPrice)\n",
    "        print(stockprice)\n",
    "        if suggestPrice>stockprice:\n",
    "            return 'strong buy' \n",
    "        else:\n",
    "            return 'do not buy'\n",
    "            \n",
    "            \n",
    "        "
   ]
  },
  {
   "cell_type": "code",
   "execution_count": 388,
   "metadata": {},
   "outputs": [],
   "source": [
    "x = cookFinancials('ZM')"
   ]
  },
  {
   "cell_type": "code",
   "execution_count": 389,
   "metadata": {},
   "outputs": [],
   "source": [
    "bv = x.get_BV(20)"
   ]
  },
  {
   "cell_type": "code",
   "execution_count": 390,
   "metadata": {},
   "outputs": [
    {
     "name": "stdout",
     "output_type": "stream",
     "text": [
      "[1499918000, 833943000, -7439000, -26671000, -28838000]\n"
     ]
    }
   ],
   "source": [
    "bv.insert(0, x.get_book_value())\n",
    "print(bv)"
   ]
  },
  {
   "cell_type": "code",
   "execution_count": 391,
   "metadata": {},
   "outputs": [
    {
     "name": "stdout",
     "output_type": "stream",
     "text": [
      "[0.7985857546618894, 113.10418066944482, 0.7210828240410934, 0.07514390734447604]\n",
      "(4, 0.7598342893514913)\n"
     ]
    }
   ],
   "source": [
    "bvgr = x.get_BV_GR_median(bv)\n",
    "print(bvgr)"
   ]
  },
  {
   "cell_type": "code",
   "execution_count": 392,
   "metadata": {},
   "outputs": [
    {
     "name": "stdout",
     "output_type": "stream",
     "text": [
      "287.76233\n",
      "140.84694\n"
     ]
    }
   ],
   "source": [
    "growth = bvgr[1]\n",
    "cEPS = x.get_earnings_per_share()\n",
    "years = 8;\n",
    "rRate = 0.2;\n",
    "safty = 0.5\n",
    "PE = x.get_PE()"
   ]
  },
  {
   "cell_type": "code",
   "execution_count": 393,
   "metadata": {},
   "outputs": [
    {
     "name": "stdout",
     "output_type": "stream",
     "text": [
      "1.4390000247773915\n"
     ]
    }
   ],
   "source": [
    "print(x.get_earnings_per_share())\n"
   ]
  },
  {
   "cell_type": "code",
   "execution_count": 394,
   "metadata": {},
   "outputs": [
    {
     "name": "stdout",
     "output_type": "stream",
     "text": [
      "287.76233\n",
      "140.84694\n"
     ]
    },
    {
     "data": {
      "text/plain": [
       "214.30463500000002"
      ]
     },
     "execution_count": 394,
     "metadata": {},
     "output_type": "execute_result"
    }
   ],
   "source": [
    "x.get_pe_ratio()\n",
    "x.get_PE()"
   ]
  },
  {
   "cell_type": "code",
   "execution_count": 395,
   "metadata": {},
   "outputs": [
    {
     "name": "stdout",
     "output_type": "stream",
     "text": [
      "1.4390000247773915\n",
      "0.7598342893514913\n",
      "8\n",
      "0.2\n",
      "214.30463500000002\n",
      "0.5\n"
     ]
    }
   ],
   "source": [
    "print(cEPS)\n",
    "print(growth)\n",
    "print(years)\n",
    "print(rRate)\n",
    "print(PE)\n",
    "print(safty)"
   ]
  },
  {
   "cell_type": "code",
   "execution_count": 396,
   "metadata": {},
   "outputs": [
    {
     "name": "stdout",
     "output_type": "stream",
     "text": [
      "(6598.065165503826, 3299.032582751913)\n"
     ]
    }
   ],
   "source": [
    "price=x.get_suggest_price(cEPS, growth, years, rRate, PE, safty)\n",
    "print(price)"
   ]
  },
  {
   "cell_type": "code",
   "execution_count": 397,
   "metadata": {},
   "outputs": [
    {
     "name": "stdout",
     "output_type": "stream",
     "text": [
      "3299.032582751913\n",
      "414.09\n"
     ]
    },
    {
     "data": {
      "text/plain": [
       "'strong buy'"
      ]
     },
     "execution_count": 397,
     "metadata": {},
     "output_type": "execute_result"
    }
   ],
   "source": [
    "x.get_decision(price[1],x.get_current_price())"
   ]
  }
 ],
 "metadata": {
  "kernelspec": {
   "display_name": "Python 3",
   "language": "python",
   "name": "python3"
  },
  "language_info": {
   "codemirror_mode": {
    "name": "ipython",
    "version": 3
   },
   "file_extension": ".py",
   "mimetype": "text/x-python",
   "name": "python",
   "nbconvert_exporter": "python",
   "pygments_lexer": "ipython3",
   "version": "3.6.10"
  }
 },
 "nbformat": 4,
 "nbformat_minor": 4
}
