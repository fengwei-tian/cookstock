{
 "cells": [
  {
   "cell_type": "code",
   "execution_count": 613,
   "metadata": {},
   "outputs": [],
   "source": [
    "from yahoofinancials import YahooFinancials\n",
    "import numpy as np"
   ]
  },
  {
   "cell_type": "code",
   "execution_count": 739,
   "metadata": {},
   "outputs": [],
   "source": [
    "class cookFinancials(YahooFinancials):\n",
    "    ticker = ''\n",
    "    bshData = []\n",
    "    def __init__(self, ticker):\n",
    "        if isinstance(ticker, str):\n",
    "            self.ticker = ticker.upper()\n",
    "        else:\n",
    "            self.ticker = [t.upper() for t in ticker]\n",
    "        self._cache = {}\n",
    "        \n",
    "    def get_balanceSheetHistory(self):\n",
    "        self.bshData = self.get_financial_stmts('annual', 'balance')['balanceSheetHistory']\n",
    "        return self.bshData\n",
    "    \n",
    "    def get_BV(self, numofYears=20):\n",
    "        bv = []\n",
    "        if not(self.bshData):\n",
    "            self.get_balanceSheetHistory()\n",
    "        for i in range(min(np.size(self.bshData[self.ticker]), numofYears)):\n",
    "            date_key = list(self.bshData[self.ticker][i].keys())[0]\n",
    "            if not(self.bshData[self.ticker][i][date_key]):    \n",
    "                break\n",
    "            bv.append(self.bshData[self.ticker][i][date_key]['totalStockholderEquity'])\n",
    "        return bv   \n",
    "    #use mean of each year    \n",
    "    def get_BV_GR_median(self, bv):\n",
    "        gr = []\n",
    "        for v in range(np.size(bv)-1):\n",
    "            gr.append((bv[v]-bv[v+1])/abs(bv[v+1]))\n",
    "        #print(gr)\n",
    "        return np.size(bv)-1, np.median(gr)\n",
    "    \n",
    "    def get_BV_GR_max(self, bv):\n",
    "        gr = []\n",
    "        for v in range(np.size(bv)-1):\n",
    "            gr.append((bv[v]-bv[v+1])/abs(bv[v+1]))\n",
    "        #print(gr)\n",
    "        return np.size(bv)-1, np.max(gr)\n",
    "    \n",
    "    def get_BV_GR_mean(self, bv):\n",
    "        gr = []\n",
    "        for v in range(np.size(bv)-1):\n",
    "            gr.append((bv[v]-bv[v+1])/abs(bv[v+1]))\n",
    "        #print(gr)\n",
    "        return np.size(bv)-1, np.mean(gr)\n",
    "    \n",
    "    def get_suggest_price(self, cEPS, growth, years, rRate, PE, safty):\n",
    "        if not(cEPS) or not(growth) or not(PE):\n",
    "            return 'NA'\n",
    "        fEPS = cEPS*(1+growth)**years\n",
    "        fPrice = fEPS*PE;\n",
    "        stickerPrice = fPrice/(1+rRate)**years\n",
    "        return stickerPrice, stickerPrice*safty\n",
    "    \n",
    "    def get_PE(self):\n",
    "        #print(self._stock_summary_data('trailingPE'))\n",
    "        #print(self._stock_summary_data('forwardPE'))\n",
    "        if not(self._stock_summary_data('trailingPE')):\n",
    "            return self._stock_summary_data('forwardPE')\n",
    "        if not()\n",
    "        return (self._stock_summary_data('trailingPE')+self._stock_summary_data('forwardPE'))/2\n",
    "    \n",
    "    def get_decision(self,suggestPrice, stockprice):\n",
    "        print('suggested price:', suggestPrice)\n",
    "        print('stock price:', stockprice)\n",
    "        if isinstance(suggestPrice, str):\n",
    "            return 'no recommendation due to error'\n",
    "        elif suggestPrice>stockprice:\n",
    "            return 'strong buy' \n",
    "        else:\n",
    "            return 'do not buy'\n",
    "            \n",
    "            \n",
    "        "
   ]
  },
  {
   "cell_type": "code",
   "execution_count": 715,
   "metadata": {},
   "outputs": [],
   "source": [
    "class batch_process:\n",
    "    def __init__(self, tickers):\n",
    "        self.tickers = tickers\n",
    "    def batch_run(self):\n",
    "        for i in range(np.size(self.tickers)):\n",
    "            print(self.tickers[i])\n",
    "            x = cookFinancials(self.tickers[i])\n",
    "            bv = x.get_BV(20)\n",
    "            bv.insert(0, x.get_book_value())\n",
    "            #print(bv)\n",
    "            bvgr = x.get_BV_GR_median(bv)\n",
    "            print(bvgr)\n",
    "            growth = bvgr[1]\n",
    "            cEPS = x.get_earnings_per_share()\n",
    "            years = 3;\n",
    "            rRate = 0.2;\n",
    "            safty = 0.5\n",
    "            PE = x.get_PE()\n",
    "            price=x.get_suggest_price(cEPS, growth, years, rRate, PE, safty)\n",
    "            #print(price)\n",
    "            print(x.get_decision(price[1],x.get_current_price()))\n",
    "            print('=====================================')"
   ]
  },
  {
   "cell_type": "code",
   "execution_count": 740,
   "metadata": {},
   "outputs": [],
   "source": [
    "x = cookFinancials('SGEN')"
   ]
  },
  {
   "cell_type": "code",
   "execution_count": 735,
   "metadata": {},
   "outputs": [
    {
     "data": {
      "text/plain": [
       "[1876287000, 1273943000, 677569000, 634087000]"
      ]
     },
     "execution_count": 735,
     "metadata": {},
     "output_type": "execute_result"
    }
   ],
   "source": [
    "bv = x.get_BV(20)\n",
    "bv"
   ]
  },
  {
   "cell_type": "code",
   "execution_count": 736,
   "metadata": {},
   "outputs": [
    {
     "name": "stdout",
     "output_type": "stream",
     "text": [
      "[2258030000, 1876287000, 1273943000, 677569000, 634087000]\n"
     ]
    }
   ],
   "source": [
    "bv.insert(0, x.get_book_value())\n",
    "print(bv)"
   ]
  },
  {
   "cell_type": "code",
   "execution_count": 737,
   "metadata": {},
   "outputs": [
    {
     "name": "stdout",
     "output_type": "stream",
     "text": [
      "(4, 0.3381376283195572)\n"
     ]
    }
   ],
   "source": [
    "bvgr = x.get_BV_GR_median(bv)\n",
    "print(bvgr)"
   ]
  },
  {
   "cell_type": "code",
   "execution_count": 741,
   "metadata": {},
   "outputs": [
    {
     "name": "stdout",
     "output_type": "stream",
     "text": [
      "66.858\n",
      "None\n"
     ]
    },
    {
     "ename": "TypeError",
     "evalue": "unsupported operand type(s) for +: 'float' and 'NoneType'",
     "output_type": "error",
     "traceback": [
      "\u001b[0;31m---------------------------------------------------------------------------\u001b[0m",
      "\u001b[0;31mTypeError\u001b[0m                                 Traceback (most recent call last)",
      "\u001b[0;32m<ipython-input-741-1ff76f2c6e2c>\u001b[0m in \u001b[0;36m<module>\u001b[0;34m\u001b[0m\n\u001b[1;32m      4\u001b[0m \u001b[0mrRate\u001b[0m \u001b[0;34m=\u001b[0m \u001b[0;36m0.2\u001b[0m\u001b[0;34m;\u001b[0m\u001b[0;34m\u001b[0m\u001b[0;34m\u001b[0m\u001b[0m\n\u001b[1;32m      5\u001b[0m \u001b[0msafty\u001b[0m \u001b[0;34m=\u001b[0m \u001b[0;36m0.5\u001b[0m\u001b[0;34m\u001b[0m\u001b[0;34m\u001b[0m\u001b[0m\n\u001b[0;32m----> 6\u001b[0;31m \u001b[0mPE\u001b[0m \u001b[0;34m=\u001b[0m \u001b[0mx\u001b[0m\u001b[0;34m.\u001b[0m\u001b[0mget_PE\u001b[0m\u001b[0;34m(\u001b[0m\u001b[0;34m)\u001b[0m\u001b[0;34m\u001b[0m\u001b[0;34m\u001b[0m\u001b[0m\n\u001b[0m",
      "\u001b[0;32m<ipython-input-739-80dcaeb93bdb>\u001b[0m in \u001b[0;36mget_PE\u001b[0;34m(self)\u001b[0m\n\u001b[1;32m     58\u001b[0m         \u001b[0;32mif\u001b[0m \u001b[0;32mnot\u001b[0m\u001b[0;34m(\u001b[0m\u001b[0mself\u001b[0m\u001b[0;34m.\u001b[0m\u001b[0m_stock_summary_data\u001b[0m\u001b[0;34m(\u001b[0m\u001b[0;34m'trailingPE'\u001b[0m\u001b[0;34m)\u001b[0m\u001b[0;34m)\u001b[0m\u001b[0;34m:\u001b[0m\u001b[0;34m\u001b[0m\u001b[0;34m\u001b[0m\u001b[0m\n\u001b[1;32m     59\u001b[0m             \u001b[0;32mreturn\u001b[0m \u001b[0mself\u001b[0m\u001b[0;34m.\u001b[0m\u001b[0m_stock_summary_data\u001b[0m\u001b[0;34m(\u001b[0m\u001b[0;34m'forwardPE'\u001b[0m\u001b[0;34m)\u001b[0m\u001b[0;34m\u001b[0m\u001b[0;34m\u001b[0m\u001b[0m\n\u001b[0;32m---> 60\u001b[0;31m         \u001b[0;32mreturn\u001b[0m \u001b[0;34m(\u001b[0m\u001b[0mself\u001b[0m\u001b[0;34m.\u001b[0m\u001b[0m_stock_summary_data\u001b[0m\u001b[0;34m(\u001b[0m\u001b[0;34m'trailingPE'\u001b[0m\u001b[0;34m)\u001b[0m\u001b[0;34m+\u001b[0m\u001b[0mself\u001b[0m\u001b[0;34m.\u001b[0m\u001b[0m_stock_summary_data\u001b[0m\u001b[0;34m(\u001b[0m\u001b[0;34m'forwardPE'\u001b[0m\u001b[0;34m)\u001b[0m\u001b[0;34m)\u001b[0m\u001b[0;34m/\u001b[0m\u001b[0;36m2\u001b[0m\u001b[0;34m\u001b[0m\u001b[0;34m\u001b[0m\u001b[0m\n\u001b[0m\u001b[1;32m     61\u001b[0m \u001b[0;34m\u001b[0m\u001b[0m\n\u001b[1;32m     62\u001b[0m     \u001b[0;32mdef\u001b[0m \u001b[0mget_decision\u001b[0m\u001b[0;34m(\u001b[0m\u001b[0mself\u001b[0m\u001b[0;34m,\u001b[0m\u001b[0msuggestPrice\u001b[0m\u001b[0;34m,\u001b[0m \u001b[0mstockprice\u001b[0m\u001b[0;34m)\u001b[0m\u001b[0;34m:\u001b[0m\u001b[0;34m\u001b[0m\u001b[0;34m\u001b[0m\u001b[0m\n",
      "\u001b[0;31mTypeError\u001b[0m: unsupported operand type(s) for +: 'float' and 'NoneType'"
     ]
    }
   ],
   "source": [
    "growth = bvgr[1]\n",
    "cEPS = x.get_earnings_per_share()\n",
    "years = 3;\n",
    "rRate = 0.2;\n",
    "safty = 0.5\n",
    "PE = x.get_PE()"
   ]
  },
  {
   "cell_type": "code",
   "execution_count": 727,
   "metadata": {},
   "outputs": [
    {
     "name": "stdout",
     "output_type": "stream",
     "text": [
      "0.1640000152780218\n"
     ]
    }
   ],
   "source": [
    "print(x.get_earnings_per_share())\n"
   ]
  },
  {
   "cell_type": "code",
   "execution_count": 728,
   "metadata": {},
   "outputs": [
    {
     "data": {
      "text/plain": [
       "117.171252"
      ]
     },
     "execution_count": 728,
     "metadata": {},
     "output_type": "execute_result"
    }
   ],
   "source": [
    "x.get_pe_ratio()\n",
    "x.get_PE()"
   ]
  },
  {
   "cell_type": "code",
   "execution_count": 729,
   "metadata": {},
   "outputs": [
    {
     "name": "stdout",
     "output_type": "stream",
     "text": [
      "0.1640000152780218\n",
      "-0.020608307411777323\n",
      "3\n",
      "0.2\n",
      "117.171252\n",
      "0.5\n"
     ]
    }
   ],
   "source": [
    "print(cEPS)\n",
    "print(growth)\n",
    "print(years)\n",
    "print(rRate)\n",
    "print(PE)\n",
    "print(safty)"
   ]
  },
  {
   "cell_type": "code",
   "execution_count": 730,
   "metadata": {},
   "outputs": [
    {
     "name": "stdout",
     "output_type": "stream",
     "text": [
      "(10.446972911318994, 5.223486455659497)\n"
     ]
    }
   ],
   "source": [
    "price=x.get_suggest_price(cEPS, growth, years, rRate, PE, safty)\n",
    "print(price)"
   ]
  },
  {
   "cell_type": "code",
   "execution_count": 731,
   "metadata": {},
   "outputs": [
    {
     "name": "stdout",
     "output_type": "stream",
     "text": [
      "suggested price: 5.223486455659497\n",
      "stock price: 34.35\n"
     ]
    },
    {
     "data": {
      "text/plain": [
       "'do not buy'"
      ]
     },
     "execution_count": 731,
     "metadata": {},
     "output_type": "execute_result"
    }
   ],
   "source": [
    "x.get_decision(price[1],x.get_current_price())"
   ]
  },
  {
   "cell_type": "code",
   "execution_count": 628,
   "metadata": {},
   "outputs": [],
   "source": [
    "from get_all_tickers import get_tickers as gt\n",
    "from get_all_tickers.get_tickers import Region"
   ]
  },
  {
   "cell_type": "code",
   "execution_count": 633,
   "metadata": {},
   "outputs": [
    {
     "data": {
      "text/plain": [
       "['DDD', 'MMM', 'WBAI', 'EGHT', 'AHC']"
      ]
     },
     "execution_count": 633,
     "metadata": {},
     "output_type": "execute_result"
    }
   ],
   "source": [
    "tickers = gt.get_tickers(AMEX=False)\n",
    "\n"
   ]
  },
  {
   "cell_type": "code",
   "execution_count": null,
   "metadata": {},
   "outputs": [],
   "source": [
    "tickers[:5]"
   ]
  },
  {
   "cell_type": "code",
   "execution_count": 642,
   "metadata": {},
   "outputs": [],
   "source": [
    "filtered_by_sector = gt.get_tickers_filtered(mktcap_min=10e3, sectors=gt.SectorConstants.HEALTH_CARE)"
   ]
  },
  {
   "cell_type": "code",
   "execution_count": 658,
   "metadata": {},
   "outputs": [
    {
     "name": "stdout",
     "output_type": "stream",
     "text": [
      "['MMM', 'ABT', 'ABBV', 'ALC', 'ABC', 'ANTM', 'BAX', 'BDX', 'BSX', 'BMY', 'CAH', 'CTLT', 'CNC', 'CRL', 'CI', 'CVS', 'DVA', 'RDY', 'EW', 'ELAN', 'LLY', 'FMS', 'GSK', 'HCA', 'HUM', 'IQV', 'JNJ', 'LH', 'MCK', 'MDT', 'MRK', 'MOH', 'NVS', 'NVO', 'OSH', 'PFE', 'QGEN', 'DGX', 'RMD', 'SNN', 'STE', 'SYK', 'TAK', 'TDOC', 'TFX', 'TEVA', 'COO', 'UNH', 'UHS', 'VAR', 'ZBH', 'ZTS', 'ABMD', 'ALXN', 'ALGN', 'ALNY', 'AMGN', 'ARGX', 'AZN', 'BGNE', 'BIIB', 'BMRN', 'BNTX', 'TECH', 'CVAC', 'XRAY', 'DXCM', 'EXAS', 'GMAB', 'GILD', 'GRFS', 'GH', 'HOLX', 'HZNP', 'ICLR', 'IDXX', 'INCY', 'PODD', 'ISRG', 'MASI', 'MRTX', 'MRNA', 'NVCR', 'PPD', 'QGEN', 'REGN', 'RGEN', 'RPRX', 'SNY', 'SRPT', 'SGEN', 'VRTX', 'VTRS', 'WBA']\n"
     ]
    }
   ],
   "source": [
    "print(filtered_by_sector)"
   ]
  },
  {
   "cell_type": "code",
   "execution_count": 708,
   "metadata": {},
   "outputs": [
    {
     "data": {
      "text/plain": [
       "83"
      ]
     },
     "execution_count": 708,
     "metadata": {},
     "output_type": "execute_result"
    }
   ],
   "source": [
    "filtered_by_sector.index('PPD')"
   ]
  },
  {
   "cell_type": "code",
   "execution_count": 732,
   "metadata": {},
   "outputs": [],
   "source": [
    "y = batch_process(filtered_by_sector[83:])"
   ]
  },
  {
   "cell_type": "code",
   "execution_count": 733,
   "metadata": {
    "scrolled": false
   },
   "outputs": [
    {
     "name": "stdout",
     "output_type": "stream",
     "text": [
      "PPD\n",
      "(3, -0.020608307411777323)\n",
      "suggested price: 5.223486455659497\n",
      "stock price: 34.35\n",
      "do not buy\n",
      "=====================================\n",
      "QGEN\n",
      "(4, 0.005814627707008394)\n",
      "suggested price: 9.465762384288192\n",
      "stock price: 47.74\n",
      "do not buy\n",
      "=====================================\n",
      "REGN\n",
      "(4, 0.32363436008384605)\n",
      "suggested price: 295.09961549527037\n",
      "stock price: 505.13\n",
      "do not buy\n",
      "=====================================\n",
      "RGEN\n",
      "(4, 0.3915201932569148)\n",
      "suggested price: 109.79190250352748\n",
      "stock price: 187\n",
      "do not buy\n",
      "=====================================\n",
      "RPRX\n",
      "(2, 0.04474716423027339)\n",
      "suggested price: A\n",
      "stock price: 41.78\n",
      "no recommendation due to error\n",
      "=====================================\n",
      "SNY\n",
      "(4, 0.011440178129996492)\n",
      "suggested price: 11.594338060643393\n",
      "stock price: 50.62\n",
      "do not buy\n",
      "=====================================\n",
      "SRPT\n",
      "(4, 0.19912381391700806)\n",
      "suggested price: A\n",
      "stock price: 149.97\n",
      "no recommendation due to error\n",
      "=====================================\n",
      "SGEN\n",
      "(4, 0.3381376283195572)\n"
     ]
    },
    {
     "ename": "TypeError",
     "evalue": "unsupported operand type(s) for +: 'float' and 'NoneType'",
     "output_type": "error",
     "traceback": [
      "\u001b[0;31m---------------------------------------------------------------------------\u001b[0m",
      "\u001b[0;31mTypeError\u001b[0m                                 Traceback (most recent call last)",
      "\u001b[0;32m<ipython-input-733-60365a4e4c51>\u001b[0m in \u001b[0;36m<module>\u001b[0;34m\u001b[0m\n\u001b[0;32m----> 1\u001b[0;31m \u001b[0my\u001b[0m\u001b[0;34m.\u001b[0m\u001b[0mbatch_run\u001b[0m\u001b[0;34m(\u001b[0m\u001b[0;34m)\u001b[0m\u001b[0;34m\u001b[0m\u001b[0;34m\u001b[0m\u001b[0m\n\u001b[0m",
      "\u001b[0;32m<ipython-input-715-8ebd2ee771c6>\u001b[0m in \u001b[0;36mbatch_run\u001b[0;34m(self)\u001b[0m\n\u001b[1;32m     16\u001b[0m             \u001b[0mrRate\u001b[0m \u001b[0;34m=\u001b[0m \u001b[0;36m0.2\u001b[0m\u001b[0;34m;\u001b[0m\u001b[0;34m\u001b[0m\u001b[0;34m\u001b[0m\u001b[0m\n\u001b[1;32m     17\u001b[0m             \u001b[0msafty\u001b[0m \u001b[0;34m=\u001b[0m \u001b[0;36m0.5\u001b[0m\u001b[0;34m\u001b[0m\u001b[0;34m\u001b[0m\u001b[0m\n\u001b[0;32m---> 18\u001b[0;31m             \u001b[0mPE\u001b[0m \u001b[0;34m=\u001b[0m \u001b[0mx\u001b[0m\u001b[0;34m.\u001b[0m\u001b[0mget_PE\u001b[0m\u001b[0;34m(\u001b[0m\u001b[0;34m)\u001b[0m\u001b[0;34m\u001b[0m\u001b[0;34m\u001b[0m\u001b[0m\n\u001b[0m\u001b[1;32m     19\u001b[0m             \u001b[0mprice\u001b[0m\u001b[0;34m=\u001b[0m\u001b[0mx\u001b[0m\u001b[0;34m.\u001b[0m\u001b[0mget_suggest_price\u001b[0m\u001b[0;34m(\u001b[0m\u001b[0mcEPS\u001b[0m\u001b[0;34m,\u001b[0m \u001b[0mgrowth\u001b[0m\u001b[0;34m,\u001b[0m \u001b[0myears\u001b[0m\u001b[0;34m,\u001b[0m \u001b[0mrRate\u001b[0m\u001b[0;34m,\u001b[0m \u001b[0mPE\u001b[0m\u001b[0;34m,\u001b[0m \u001b[0msafty\u001b[0m\u001b[0;34m)\u001b[0m\u001b[0;34m\u001b[0m\u001b[0;34m\u001b[0m\u001b[0m\n\u001b[1;32m     20\u001b[0m             \u001b[0;31m#print(price)\u001b[0m\u001b[0;34m\u001b[0m\u001b[0;34m\u001b[0m\u001b[0;34m\u001b[0m\u001b[0m\n",
      "\u001b[0;32m<ipython-input-721-5c76813dde15>\u001b[0m in \u001b[0;36mget_PE\u001b[0;34m(self)\u001b[0m\n\u001b[1;32m     58\u001b[0m         \u001b[0;32mif\u001b[0m \u001b[0;32mnot\u001b[0m\u001b[0;34m(\u001b[0m\u001b[0mself\u001b[0m\u001b[0;34m.\u001b[0m\u001b[0m_stock_summary_data\u001b[0m\u001b[0;34m(\u001b[0m\u001b[0;34m'trailingPE'\u001b[0m\u001b[0;34m)\u001b[0m\u001b[0;34m)\u001b[0m\u001b[0;34m:\u001b[0m\u001b[0;34m\u001b[0m\u001b[0;34m\u001b[0m\u001b[0m\n\u001b[1;32m     59\u001b[0m             \u001b[0;32mreturn\u001b[0m \u001b[0mself\u001b[0m\u001b[0;34m.\u001b[0m\u001b[0m_stock_summary_data\u001b[0m\u001b[0;34m(\u001b[0m\u001b[0;34m'forwardPE'\u001b[0m\u001b[0;34m)\u001b[0m\u001b[0;34m\u001b[0m\u001b[0;34m\u001b[0m\u001b[0m\n\u001b[0;32m---> 60\u001b[0;31m         \u001b[0;32mreturn\u001b[0m \u001b[0;34m(\u001b[0m\u001b[0mself\u001b[0m\u001b[0;34m.\u001b[0m\u001b[0m_stock_summary_data\u001b[0m\u001b[0;34m(\u001b[0m\u001b[0;34m'trailingPE'\u001b[0m\u001b[0;34m)\u001b[0m\u001b[0;34m+\u001b[0m\u001b[0mself\u001b[0m\u001b[0;34m.\u001b[0m\u001b[0m_stock_summary_data\u001b[0m\u001b[0;34m(\u001b[0m\u001b[0;34m'forwardPE'\u001b[0m\u001b[0;34m)\u001b[0m\u001b[0;34m)\u001b[0m\u001b[0;34m/\u001b[0m\u001b[0;36m2\u001b[0m\u001b[0;34m\u001b[0m\u001b[0;34m\u001b[0m\u001b[0m\n\u001b[0m\u001b[1;32m     61\u001b[0m \u001b[0;34m\u001b[0m\u001b[0m\n\u001b[1;32m     62\u001b[0m     \u001b[0;32mdef\u001b[0m \u001b[0mget_decision\u001b[0m\u001b[0;34m(\u001b[0m\u001b[0mself\u001b[0m\u001b[0;34m,\u001b[0m\u001b[0msuggestPrice\u001b[0m\u001b[0;34m,\u001b[0m \u001b[0mstockprice\u001b[0m\u001b[0;34m)\u001b[0m\u001b[0;34m:\u001b[0m\u001b[0;34m\u001b[0m\u001b[0;34m\u001b[0m\u001b[0m\n",
      "\u001b[0;31mTypeError\u001b[0m: unsupported operand type(s) for +: 'float' and 'NoneType'"
     ]
    }
   ],
   "source": [
    "y.batch_run()\n"
   ]
  }
 ],
 "metadata": {
  "kernelspec": {
   "display_name": "Python 3",
   "language": "python",
   "name": "python3"
  },
  "language_info": {
   "codemirror_mode": {
    "name": "ipython",
    "version": 3
   },
   "file_extension": ".py",
   "mimetype": "text/x-python",
   "name": "python",
   "nbconvert_exporter": "python",
   "pygments_lexer": "ipython3",
   "version": "3.6.10"
  }
 },
 "nbformat": 4,
 "nbformat_minor": 4
}
