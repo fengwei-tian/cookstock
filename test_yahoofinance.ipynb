{
 "cells": [
  {
   "cell_type": "code",
   "execution_count": 2,
   "metadata": {},
   "outputs": [],
   "source": [
    "from yahoofinancials import YahooFinancials\n",
    "import numpy as np"
   ]
  },
  {
   "cell_type": "code",
   "execution_count": 105,
   "metadata": {},
   "outputs": [],
   "source": [
    "class cookFinancials(YahooFinancials):\n",
    "    ticker = ''\n",
    "    bshData = []\n",
    "    def __init__(self, ticker):\n",
    "        if isinstance(ticker, str):\n",
    "            self.ticker = ticker.upper()\n",
    "        else:\n",
    "            self.ticker = [t.upper() for t in ticker]\n",
    "        self._cache = {}\n",
    "        \n",
    "    def get_balanceSheetHistory(self):\n",
    "        self.bshData = self.get_financial_stmts('annual', 'balance')['balanceSheetHistory']\n",
    "        return self.bshData\n",
    "    \n",
    "    def get_BV(self, numofYears=20):\n",
    "        bv = []\n",
    "        if not(self.bshData):\n",
    "            self.get_balanceSheetHistory()\n",
    "        for i in range(min(np.size(self.bshData[self.ticker]), numofYears)):\n",
    "            date_key = list(self.bshData[self.ticker][i].keys())[0]\n",
    "            bv.append(self.bshData[self.ticker][i][date_key]['totalStockholderEquity'])\n",
    "        return bv   \n",
    "        \n",
    "    def get_BV_GR(self, bv):\n",
    "        return [np.size(bv)-1, (bv[0] - bv[-1])/abs(bv[-1]*(np.size(bv)-1))]\n",
    "    \n",
    "    def get_suggest_price(self, cEPS, growth, years, rRate, PE, safty):\n",
    "        fEPS = cEPS*(1+growth)**years\n",
    "        fPrice = fEPS*PE;\n",
    "        stickerPrice = fPrice/(1+rRate)**years\n",
    "        return stickerPrice, stickerPrice*safty\n",
    "    \n",
    "    def get_PE(self):\n",
    "        print(self._stock_summary_data('trailingPE'))\n",
    "        print(self._stock_summary_data('forwardPE'))\n",
    "        return (self._stock_summary_data('trailingPE')+self._stock_summary_data('forwardPE'))/2\n",
    "    \n",
    "    def get_decision(self,suggestPrice, stockprice):\n",
    "        print(suggestPrice)\n",
    "        print(stockprice)\n",
    "        if suggestPrice>stockprice:\n",
    "            return 'strong buy' \n",
    "        else:\n",
    "            return 'do not buy'\n",
    "            \n",
    "            \n",
    "        "
   ]
  },
  {
   "cell_type": "code",
   "execution_count": 110,
   "metadata": {},
   "outputs": [],
   "source": [
    "x = cookFinancials('GOOGL')"
   ]
  },
  {
   "cell_type": "code",
   "execution_count": 111,
   "metadata": {},
   "outputs": [],
   "source": [
    "bv = x.get_BV(20)"
   ]
  },
  {
   "cell_type": "code",
   "execution_count": 112,
   "metadata": {},
   "outputs": [
    {
     "name": "stdout",
     "output_type": "stream",
     "text": [
      "[212920000000, 201442000000, 177628000000, 152502000000, 139036000000]\n"
     ]
    }
   ],
   "source": [
    "bv.insert(0, x.get_book_value())\n",
    "print(bv)"
   ]
  },
  {
   "cell_type": "code",
   "execution_count": 113,
   "metadata": {},
   "outputs": [
    {
     "name": "stdout",
     "output_type": "stream",
     "text": [
      "[4, 0.1328504847665353]\n"
     ]
    }
   ],
   "source": [
    "bvgr = x.get_BV_GR(bv)\n",
    "print(bvgr)"
   ]
  },
  {
   "cell_type": "code",
   "execution_count": 114,
   "metadata": {},
   "outputs": [
    {
     "name": "stdout",
     "output_type": "stream",
     "text": [
      "35.161346\n",
      "29.689508\n"
     ]
    }
   ],
   "source": [
    "growth = bvgr[1]\n",
    "cEPS = x.get_earnings_per_share()\n",
    "years = 8;\n",
    "rRate = 0.2;\n",
    "safty = 0.5\n",
    "PE = x.get_PE()"
   ]
  },
  {
   "cell_type": "code",
   "execution_count": 115,
   "metadata": {},
   "outputs": [
    {
     "name": "stdout",
     "output_type": "stream",
     "text": [
      "35.161346\n",
      "29.689508\n"
     ]
    },
    {
     "data": {
      "text/plain": [
       "32.425427"
      ]
     },
     "execution_count": 115,
     "metadata": {},
     "output_type": "execute_result"
    }
   ],
   "source": [
    "x.get_pe_ratio()\n",
    "x.get_PE()"
   ]
  },
  {
   "cell_type": "code",
   "execution_count": 103,
   "metadata": {},
   "outputs": [
    {
     "name": "stdout",
     "output_type": "stream",
     "text": [
      "8.777999242122782\n",
      "0.24722522552961448\n",
      "8\n",
      "0.2\n",
      "30.015818000000003\n",
      "0.5\n"
     ]
    }
   ],
   "source": [
    "print(cEPS)\n",
    "print(growth)\n",
    "print(years)\n",
    "print(rRate)\n",
    "print(PE)\n",
    "print(safty)"
   ]
  },
  {
   "cell_type": "code",
   "execution_count": 104,
   "metadata": {},
   "outputs": [
    {
     "name": "stdout",
     "output_type": "stream",
     "text": [
      "(358.8019892120326, 179.4009946060163)\n"
     ]
    }
   ],
   "source": [
    "price=x.get_suggest_price(cEPS, growth, years, rRate, PE, safty)\n",
    "print(price)"
   ]
  },
  {
   "cell_type": "code",
   "execution_count": 107,
   "metadata": {},
   "outputs": [
    {
     "name": "stdout",
     "output_type": "stream",
     "text": [
      "179.4009946060163\n",
      "286.815\n"
     ]
    },
    {
     "data": {
      "text/plain": [
       "'do not buy'"
      ]
     },
     "execution_count": 107,
     "metadata": {},
     "output_type": "execute_result"
    }
   ],
   "source": [
    "x.get_decision(price[1],x.get_current_price())"
   ]
  }
 ],
 "metadata": {
  "kernelspec": {
   "display_name": "Python 3",
   "language": "python",
   "name": "python3"
  },
  "language_info": {
   "codemirror_mode": {
    "name": "ipython",
    "version": 3
   },
   "file_extension": ".py",
   "mimetype": "text/x-python",
   "name": "python",
   "nbconvert_exporter": "python",
   "pygments_lexer": "ipython3",
   "version": "3.6.10"
  }
 },
 "nbformat": 4,
 "nbformat_minor": 4
}
