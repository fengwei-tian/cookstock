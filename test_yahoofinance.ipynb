{
 "cells": [
  {
   "cell_type": "code",
   "execution_count": 613,
   "metadata": {},
   "outputs": [],
   "source": [
    "from yahoofinancials import YahooFinancials\n",
    "import numpy as np"
   ]
  },
  {
   "cell_type": "code",
   "execution_count": 665,
   "metadata": {},
   "outputs": [],
   "source": [
    "class cookFinancials(YahooFinancials):\n",
    "    ticker = ''\n",
    "    bshData = []\n",
    "    def __init__(self, ticker):\n",
    "        if isinstance(ticker, str):\n",
    "            self.ticker = ticker.upper()\n",
    "        else:\n",
    "            self.ticker = [t.upper() for t in ticker]\n",
    "        self._cache = {}\n",
    "        \n",
    "    def get_balanceSheetHistory(self):\n",
    "        self.bshData = self.get_financial_stmts('annual', 'balance')['balanceSheetHistory']\n",
    "        return self.bshData\n",
    "    \n",
    "    def get_BV(self, numofYears=20):\n",
    "        bv = []\n",
    "        if not(self.bshData):\n",
    "            self.get_balanceSheetHistory()\n",
    "        for i in range(min(np.size(self.bshData[self.ticker]), numofYears)):\n",
    "            date_key = list(self.bshData[self.ticker][i].keys())[0]\n",
    "            bv.append(self.bshData[self.ticker][i][date_key]['totalStockholderEquity'])\n",
    "        return bv   \n",
    "    #use mean of each year    \n",
    "    def get_BV_GR_median(self, bv):\n",
    "        gr = []\n",
    "        for v in range(np.size(bv)-1):\n",
    "            gr.append((bv[v]-bv[v+1])/abs(bv[v+1]))\n",
    "        #print(gr)\n",
    "        return np.size(bv)-1, np.median(gr)\n",
    "    \n",
    "    def get_BV_GR_max(self, bv):\n",
    "        gr = []\n",
    "        for v in range(np.size(bv)-1):\n",
    "            gr.append((bv[v]-bv[v+1])/abs(bv[v+1]))\n",
    "        #print(gr)\n",
    "        return np.size(bv)-1, np.max(gr)\n",
    "    \n",
    "    def get_BV_GR_mean(self, bv):\n",
    "        gr = []\n",
    "        for v in range(np.size(bv)-1):\n",
    "            gr.append((bv[v]-bv[v+1])/abs(bv[v+1]))\n",
    "        #print(gr)\n",
    "        return np.size(bv)-1, np.mean(gr)\n",
    "    \n",
    "    def get_suggest_price(self, cEPS, growth, years, rRate, PE, safty):\n",
    "        if not(cEPS) or not(growth) or not(PE):\n",
    "            return 'NA'\n",
    "        fEPS = cEPS*(1+growth)**years\n",
    "        fPrice = fEPS*PE;\n",
    "        stickerPrice = fPrice/(1+rRate)**years\n",
    "        return stickerPrice, stickerPrice*safty\n",
    "    \n",
    "    def get_PE(self):\n",
    "        #print(self._stock_summary_data('trailingPE'))\n",
    "        #print(self._stock_summary_data('forwardPE'))\n",
    "        if not(self._stock_summary_data('trailingPE')):\n",
    "            return self._stock_summary_data('forwardPE')\n",
    "        return (self._stock_summary_data('trailingPE')+self._stock_summary_data('forwardPE'))/2\n",
    "    \n",
    "    def get_decision(self,suggestPrice, stockprice):\n",
    "        print('suggested price:', suggestPrice)\n",
    "        print('stock price:', stockprice)\n",
    "        if isinstance(suggestPrice, str):\n",
    "            return 'no recommendation due to error'\n",
    "        elif suggestPrice>stockprice:\n",
    "            return 'strong buy' \n",
    "        else:\n",
    "            return 'do not buy'\n",
    "            \n",
    "            \n",
    "        "
   ]
  },
  {
   "cell_type": "code",
   "execution_count": 666,
   "metadata": {},
   "outputs": [],
   "source": [
    "class batch_process:\n",
    "    def __init__(self, tickers):\n",
    "        self.tickers = tickers\n",
    "    def batch_run(self):\n",
    "        for i in range(np.size(self.tickers)):\n",
    "            print(self.tickers[i])\n",
    "            x = cookFinancials(self.tickers[i])\n",
    "            bv = x.get_BV(20)\n",
    "            bv.insert(0, x.get_book_value())\n",
    "            #print(bv)\n",
    "            bvgr = x.get_BV_GR_median(bv)\n",
    "            print(bvgr)\n",
    "            growth = bvgr[1]\n",
    "            cEPS = x.get_earnings_per_share()\n",
    "            years = 3;\n",
    "            rRate = 0.2;\n",
    "            safty = 0.5\n",
    "            PE = x.get_PE()\n",
    "            price=x.get_suggest_price(cEPS, growth, years, rRate, PE, safty)\n",
    "            #print(price)\n",
    "            print(x.get_decision(price[1],x.get_current_price()))\n",
    "            print('=====================================')"
   ]
  },
  {
   "cell_type": "code",
   "execution_count": 615,
   "metadata": {},
   "outputs": [],
   "source": [
    "x = cookFinancials('TSLA')"
   ]
  },
  {
   "cell_type": "code",
   "execution_count": 616,
   "metadata": {},
   "outputs": [],
   "source": [
    "bv = x.get_BV(20)"
   ]
  },
  {
   "cell_type": "code",
   "execution_count": 617,
   "metadata": {},
   "outputs": [
    {
     "name": "stdout",
     "output_type": "stream",
     "text": [
      "[16031000000, 6618000000, 4923000000, 4237242000, 4752911000]\n"
     ]
    }
   ],
   "source": [
    "bv.insert(0, x.get_book_value())\n",
    "print(bv)"
   ]
  },
  {
   "cell_type": "code",
   "execution_count": 618,
   "metadata": {},
   "outputs": [
    {
     "name": "stdout",
     "output_type": "stream",
     "text": [
      "[1.4223330311272289, 0.34430225472273, 0.16184065012099852, -0.10849540418493003]\n",
      "(4, 0.25307145242186424)\n"
     ]
    }
   ],
   "source": [
    "bvgr = x.get_BV_GR_median(bv)\n",
    "print(bvgr)"
   ]
  },
  {
   "cell_type": "code",
   "execution_count": 619,
   "metadata": {},
   "outputs": [
    {
     "name": "stdout",
     "output_type": "stream",
     "text": [
      "1087.61\n",
      "145.85129\n"
     ]
    }
   ],
   "source": [
    "growth = bvgr[1]\n",
    "cEPS = x.get_earnings_per_share()\n",
    "years = 3;\n",
    "rRate = 0.2;\n",
    "safty = 0.5\n",
    "PE = x.get_PE()"
   ]
  },
  {
   "cell_type": "code",
   "execution_count": 620,
   "metadata": {},
   "outputs": [
    {
     "name": "stdout",
     "output_type": "stream",
     "text": [
      "0.5229999724165832\n"
     ]
    }
   ],
   "source": [
    "print(x.get_earnings_per_share())\n"
   ]
  },
  {
   "cell_type": "code",
   "execution_count": 621,
   "metadata": {},
   "outputs": [
    {
     "name": "stdout",
     "output_type": "stream",
     "text": [
      "1087.61\n",
      "145.85129\n"
     ]
    },
    {
     "data": {
      "text/plain": [
       "616.730645"
      ]
     },
     "execution_count": 621,
     "metadata": {},
     "output_type": "execute_result"
    }
   ],
   "source": [
    "x.get_pe_ratio()\n",
    "x.get_PE()"
   ]
  },
  {
   "cell_type": "code",
   "execution_count": 622,
   "metadata": {},
   "outputs": [
    {
     "name": "stdout",
     "output_type": "stream",
     "text": [
      "0.5229999724165832\n",
      "0.25307145242186424\n",
      "3\n",
      "0.2\n",
      "616.730645\n",
      "0.5\n"
     ]
    }
   ],
   "source": [
    "print(cEPS)\n",
    "print(growth)\n",
    "print(years)\n",
    "print(rRate)\n",
    "print(PE)\n",
    "print(safty)"
   ]
  },
  {
   "cell_type": "code",
   "execution_count": 623,
   "metadata": {},
   "outputs": [
    {
     "name": "stdout",
     "output_type": "stream",
     "text": [
      "(367.26620257306394, 183.63310128653197)\n"
     ]
    }
   ],
   "source": [
    "price=x.get_suggest_price(cEPS, growth, years, rRate, PE, safty)\n",
    "print(price)"
   ]
  },
  {
   "cell_type": "code",
   "execution_count": 624,
   "metadata": {},
   "outputs": [
    {
     "name": "stdout",
     "output_type": "stream",
     "text": [
      "183.63310128653197\n",
      "568.82\n"
     ]
    },
    {
     "data": {
      "text/plain": [
       "'do not buy'"
      ]
     },
     "execution_count": 624,
     "metadata": {},
     "output_type": "execute_result"
    }
   ],
   "source": [
    "x.get_decision(price[1],x.get_current_price())"
   ]
  },
  {
   "cell_type": "code",
   "execution_count": 628,
   "metadata": {},
   "outputs": [],
   "source": [
    "from get_all_tickers import get_tickers as gt\n",
    "from get_all_tickers.get_tickers import Region"
   ]
  },
  {
   "cell_type": "code",
   "execution_count": 633,
   "metadata": {},
   "outputs": [
    {
     "data": {
      "text/plain": [
       "['DDD', 'MMM', 'WBAI', 'EGHT', 'AHC']"
      ]
     },
     "execution_count": 633,
     "metadata": {},
     "output_type": "execute_result"
    }
   ],
   "source": [
    "tickers = gt.get_tickers(AMEX=False)\n",
    "\n"
   ]
  },
  {
   "cell_type": "code",
   "execution_count": null,
   "metadata": {},
   "outputs": [],
   "source": [
    "tickers[:5]"
   ]
  },
  {
   "cell_type": "code",
   "execution_count": 642,
   "metadata": {},
   "outputs": [],
   "source": [
    "filtered_by_sector = gt.get_tickers_filtered(mktcap_min=10e3, sectors=gt.SectorConstants.HEALTH_CARE)"
   ]
  },
  {
   "cell_type": "code",
   "execution_count": 658,
   "metadata": {},
   "outputs": [
    {
     "name": "stdout",
     "output_type": "stream",
     "text": [
      "['MMM', 'ABT', 'ABBV', 'ALC', 'ABC', 'ANTM', 'BAX', 'BDX', 'BSX', 'BMY', 'CAH', 'CTLT', 'CNC', 'CRL', 'CI', 'CVS', 'DVA', 'RDY', 'EW', 'ELAN', 'LLY', 'FMS', 'GSK', 'HCA', 'HUM', 'IQV', 'JNJ', 'LH', 'MCK', 'MDT', 'MRK', 'MOH', 'NVS', 'NVO', 'OSH', 'PFE', 'QGEN', 'DGX', 'RMD', 'SNN', 'STE', 'SYK', 'TAK', 'TDOC', 'TFX', 'TEVA', 'COO', 'UNH', 'UHS', 'VAR', 'ZBH', 'ZTS', 'ABMD', 'ALXN', 'ALGN', 'ALNY', 'AMGN', 'ARGX', 'AZN', 'BGNE', 'BIIB', 'BMRN', 'BNTX', 'TECH', 'CVAC', 'XRAY', 'DXCM', 'EXAS', 'GMAB', 'GILD', 'GRFS', 'GH', 'HOLX', 'HZNP', 'ICLR', 'IDXX', 'INCY', 'PODD', 'ISRG', 'MASI', 'MRTX', 'MRNA', 'NVCR', 'PPD', 'QGEN', 'REGN', 'RGEN', 'RPRX', 'SNY', 'SRPT', 'SGEN', 'VRTX', 'VTRS', 'WBA']\n"
     ]
    }
   ],
   "source": [
    "print(filtered_by_sector)"
   ]
  },
  {
   "cell_type": "code",
   "execution_count": 660,
   "metadata": {},
   "outputs": [
    {
     "data": {
      "text/plain": [
       "'ABT'"
      ]
     },
     "execution_count": 660,
     "metadata": {},
     "output_type": "execute_result"
    }
   ],
   "source": [
    "filtered_by_sector[1]"
   ]
  },
  {
   "cell_type": "code",
   "execution_count": 667,
   "metadata": {},
   "outputs": [],
   "source": [
    "y = batch_process(filtered_by_sector)"
   ]
  },
  {
   "cell_type": "code",
   "execution_count": null,
   "metadata": {},
   "outputs": [
    {
     "name": "stdout",
     "output_type": "stream",
     "text": [
      "MMM\n",
      "(4, 0.07504770457753791)\n",
      "suggested price: 58.76441691021123\n",
      "stock price: 171.85\n",
      "do not buy\n",
      "=====================================\n",
      "ABT\n",
      "(4, 0.014031478010469122)\n",
      "suggested price: 23.326206379613332\n",
      "stock price: 108.15\n",
      "do not buy\n",
      "=====================================\n",
      "ABBV\n",
      "(4, 0.06594028203741498)\n",
      "suggested price: 25.2967640192931\n",
      "stock price: 104.99\n",
      "do not buy\n",
      "=====================================\n",
      "ALC\n",
      "(4, -0.02522663734711066)\n",
      "suggested price: A\n",
      "stock price: 63.19\n",
      "no recommendation due to error\n",
      "=====================================\n",
      "ABC\n",
      "(4, -0.009190288950172256)\n",
      "suggested price: A\n",
      "stock price: 103.12\n",
      "no recommendation due to error\n",
      "=====================================\n",
      "ANTM\n",
      "(4, 0.07300785725853089)\n",
      "suggested price: 100.57162027755349\n",
      "stock price: 318.45\n",
      "do not buy\n",
      "=====================================\n",
      "BAX\n",
      "(4, 0.04587567176796038)\n",
      "suggested price: 18.96272569510114\n",
      "stock price: 76.35\n",
      "do not buy\n",
      "=====================================\n",
      "BDX\n",
      "(4, 0.06573747725057826)\n",
      "suggested price: 50.975124588655596\n",
      "stock price: 241.87\n",
      "do not buy\n",
      "=====================================\n",
      "BSX\n",
      "(4, 0.18300308418255884)\n",
      "suggested price: 21.0940622310757\n",
      "stock price: 34.15\n",
      "do not buy\n",
      "=====================================\n",
      "BMY\n",
      "(4, 0.08356747660831704)\n",
      "suggested price: A\n",
      "stock price: 62.18\n",
      "no recommendation due to error\n",
      "=====================================\n",
      "CAH\n",
      "(4, -0.15758008202627494)\n",
      "suggested price: 7.4145884938658355\n",
      "stock price: 55.65\n",
      "do not buy\n",
      "=====================================\n",
      "CTLT\n"
     ]
    }
   ],
   "source": [
    "y.batch_run()"
   ]
  }
 ],
 "metadata": {
  "kernelspec": {
   "display_name": "Python 3",
   "language": "python",
   "name": "python3"
  },
  "language_info": {
   "codemirror_mode": {
    "name": "ipython",
    "version": 3
   },
   "file_extension": ".py",
   "mimetype": "text/x-python",
   "name": "python",
   "nbconvert_exporter": "python",
   "pygments_lexer": "ipython3",
   "version": "3.6.10"
  }
 },
 "nbformat": 4,
 "nbformat_minor": 4
}
